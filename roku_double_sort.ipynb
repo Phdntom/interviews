{
 "cells": [
  {
   "cell_type": "code",
   "execution_count": 1,
   "metadata": {},
   "outputs": [],
   "source": [
    "# ROKU\n",
    "# double sort"
   ]
  },
  {
   "cell_type": "code",
   "execution_count": null,
   "metadata": {},
   "outputs": [],
   "source": [
    "# Given a list of integers as input, write a function which outputs each unique integer in the input.\n",
    "# Order the output such that the highest frequency integers appear first."
   ]
  },
  {
   "cell_type": "code",
   "execution_count": 28,
   "metadata": {},
   "outputs": [],
   "source": [
    "from collections import defaultdict\n",
    "def freq_order(ls):\n",
    "    freq = defaultdict(int)\n",
    "    for i in ls: # O(N)\n",
    "        freq[i] += 1\n",
    "    freq = dict(freq)\n",
    "    print(freq)\n",
    "    grp = defaultdict(list)\n",
    "    for i, f in freq.items(): #O(N)\n",
    "        grp[f].append(i)\n",
    "    grp = dict(grp)\n",
    "    \n",
    "    for f, ls in grp.items(): # O(1)\n",
    "        grp[f] = sorted(ls) # O(NlogN)\n",
    "    print(grp)\n",
    "    \n",
    "    output = []\n",
    "    for f, ls in sorted(grp.items(), key=lambda x: x[0], reverse=True): #O(1)\n",
    "        output.extend(ls)\n",
    "    return output"
   ]
  },
  {
   "cell_type": "code",
   "execution_count": 56,
   "metadata": {},
   "outputs": [],
   "source": [
    "ls = [8, 3, 1, 8, 5, 3, 5, 3]\n",
    "# [8, 3, 5, 1, 4]"
   ]
  },
  {
   "cell_type": "code",
   "execution_count": null,
   "metadata": {},
   "outputs": [],
   "source": []
  },
  {
   "cell_type": "code",
   "execution_count": 57,
   "metadata": {},
   "outputs": [
    {
     "name": "stdout",
     "output_type": "stream",
     "text": [
      "{8: 2, 1: 1, 3: 3, 5: 2}\n",
      "{1: [1], 2: [5, 8], 3: [3]}\n"
     ]
    },
    {
     "data": {
      "text/plain": [
       "[3, 5, 8, 1]"
      ]
     },
     "execution_count": 57,
     "metadata": {},
     "output_type": "execute_result"
    }
   ],
   "source": [
    "freq_order(ls)"
   ]
  },
  {
   "cell_type": "code",
   "execution_count": null,
   "metadata": {},
   "outputs": [],
   "source": []
  }
 ],
 "metadata": {
  "kernelspec": {
   "display_name": "Python 2",
   "language": "python",
   "name": "python2"
  },
  "language_info": {
   "codemirror_mode": {
    "name": "ipython",
    "version": 2
   },
   "file_extension": ".py",
   "mimetype": "text/x-python",
   "name": "python",
   "nbconvert_exporter": "python",
   "pygments_lexer": "ipython2",
   "version": "2.7.10"
  }
 },
 "nbformat": 4,
 "nbformat_minor": 2
}
