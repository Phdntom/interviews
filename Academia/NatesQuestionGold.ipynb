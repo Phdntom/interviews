{
 "metadata": {
  "name": "",
  "signature": "sha256:7a3ae5f12e43681a2057d3ebca9153e4888484e4b51c83d4d0088277ba641fbd"
 },
 "nbformat": 3,
 "nbformat_minor": 0,
 "worksheets": [
  {
   "cells": [
    {
     "cell_type": "code",
     "collapsed": false,
     "input": [
      "from __future__ import division, print_function"
     ],
     "language": "python",
     "metadata": {},
     "outputs": [],
     "prompt_number": 1
    },
    {
     "cell_type": "code",
     "collapsed": false,
     "input": [],
     "language": "python",
     "metadata": {},
     "outputs": [],
     "prompt_number": 0
    },
    {
     "cell_type": "code",
     "collapsed": false,
     "input": [
      "def bottles_kegs(num):\n",
      "    '''\n",
      "    '''\n",
      "    kegs = False\n",
      "    bottles = False\n",
      "    \n",
      "    kegs = (num % 5) == 0\n",
      "    bottles = (num % 7) == 0\n",
      "    \n",
      "    string_num = str(num)\n",
      "    if str(7) in string_num:\n",
      "        bottles = True\n",
      "    if str(5) in string_num:\n",
      "        kegs = True\n",
      "    if bottles and kegs:\n",
      "        print(\"Bottles and Kegs\")\n",
      "    elif bottles:\n",
      "        print(\"Bottles\")\n",
      "    elif kegs:\n",
      "        print(\"Kegs\")\n",
      "    else:\n",
      "        print(num)"
     ],
     "language": "python",
     "metadata": {},
     "outputs": [],
     "prompt_number": 5
    },
    {
     "cell_type": "code",
     "collapsed": false,
     "input": [
      "bottles_kegs(4)"
     ],
     "language": "python",
     "metadata": {},
     "outputs": [
      {
       "output_type": "stream",
       "stream": "stdout",
       "text": [
        "4\n"
       ]
      }
     ],
     "prompt_number": 6
    },
    {
     "cell_type": "code",
     "collapsed": false,
     "input": [
      "bottles_kegs(75)"
     ],
     "language": "python",
     "metadata": {},
     "outputs": [
      {
       "output_type": "stream",
       "stream": "stdout",
       "text": [
        "Bottles and Kegs\n"
       ]
      }
     ],
     "prompt_number": 7
    },
    {
     "cell_type": "code",
     "collapsed": false,
     "input": [
      "bottles_kegs(15)"
     ],
     "language": "python",
     "metadata": {},
     "outputs": [
      {
       "output_type": "stream",
       "stream": "stdout",
       "text": [
        "Kegs\n"
       ]
      }
     ],
     "prompt_number": 9
    },
    {
     "cell_type": "code",
     "collapsed": false,
     "input": [
      "bottles_kegs(17)"
     ],
     "language": "python",
     "metadata": {},
     "outputs": [
      {
       "output_type": "stream",
       "stream": "stdout",
       "text": [
        "Bottles\n"
       ]
      }
     ],
     "prompt_number": 10
    },
    {
     "cell_type": "code",
     "collapsed": false,
     "input": [
      "# number tests\n",
      "def div5(num):\n",
      "    '''\n",
      "    Returns True when num is divisible by 5\n",
      "    '''\n",
      "    return num % 5 == 0\n",
      "\n",
      "def div7(num):\n",
      "    return num % 7 == 0\n",
      "\n",
      "def has5(num):\n",
      "    return str(5) in str(num)\n",
      "\n",
      "def has7(num):\n",
      "    return str(7) in str(num)\n",
      "\n",
      "def has3(num):\n",
      "    return str(3) in str(num)\n",
      "    "
     ],
     "language": "python",
     "metadata": {},
     "outputs": [],
     "prompt_number": 22
    },
    {
     "cell_type": "code",
     "collapsed": false,
     "input": [
      "def find_test_nums(tests=None):\n",
      "    '''\n",
      "    Given N tests, we expect to find 2 ** N test nums\n",
      "    from the resummed binonial coefficients; viz.\n",
      "    (a+b)^N = Sum_i {N choose i} a^i b^(N-i).\n",
      "    Setting a = b = 1 e.g. for N = 2\n",
      "    (a+b)^2 = a^2 + 2ab + b^2 = 1 + 2 + 1 = 4 = 2^2\n",
      "    '''\n",
      "    if tests is None:\n",
      "        tests = [div5, div7, has5, has7]\n",
      "    test_vecs = []\n",
      "    test_nums = []\n",
      "    N = 0\n",
      "    # Depending on how you view 0 being a multiple of 5\n",
      "    # you can start i at 0 or 1 to fit your view.\n",
      "    i = 1\n",
      "    while N < ( 2 ** len(tests) ):\n",
      "        bit_vec = [0 for x in range(len(tests))]\n",
      "        for n, test in enumerate(tests):\n",
      "            if test(i):\n",
      "                bit_vec[n] = 1\n",
      "            \n",
      "        if bit_vec not in test_vecs:\n",
      "            test_vecs.append(bit_vec)\n",
      "            test_nums.append(i)\n",
      "            N += 1\n",
      "        i += 1\n",
      "\n",
      "    return test_vecs, test_nums\n",
      "        "
     ],
     "language": "python",
     "metadata": {},
     "outputs": [],
     "prompt_number": 34
    },
    {
     "cell_type": "code",
     "collapsed": false,
     "input": [
      "find_test_nums()"
     ],
     "language": "python",
     "metadata": {},
     "outputs": [
      {
       "metadata": {},
       "output_type": "pyout",
       "prompt_number": 35,
       "text": [
        "([[0, 0, 0, 0],\n",
        "  [1, 0, 1, 0],\n",
        "  [0, 1, 0, 1],\n",
        "  [1, 0, 0, 0],\n",
        "  [0, 1, 0, 0],\n",
        "  [0, 0, 0, 1],\n",
        "  [1, 1, 1, 0],\n",
        "  [0, 0, 1, 0],\n",
        "  [0, 1, 1, 0],\n",
        "  [0, 0, 1, 1],\n",
        "  [1, 1, 0, 1],\n",
        "  [1, 0, 1, 1],\n",
        "  [1, 1, 0, 0],\n",
        "  [1, 0, 0, 1],\n",
        "  [1, 1, 1, 1],\n",
        "  [0, 1, 1, 1]],\n",
        " [1, 5, 7, 10, 14, 17, 35, 51, 56, 57, 70, 75, 140, 170, 175, 357])"
       ]
      }
     ],
     "prompt_number": 35
    },
    {
     "cell_type": "code",
     "collapsed": false,
     "input": [
      "0 % 5"
     ],
     "language": "python",
     "metadata": {},
     "outputs": [
      {
       "metadata": {},
       "output_type": "pyout",
       "prompt_number": 38,
       "text": [
        "0"
       ]
      }
     ],
     "prompt_number": 38
    },
    {
     "cell_type": "code",
     "collapsed": false,
     "input": [
      "tests = [has3,has5,has7,div5,div7]\n",
      "find_test_nums(tests)"
     ],
     "language": "python",
     "metadata": {},
     "outputs": [
      {
       "metadata": {},
       "output_type": "pyout",
       "prompt_number": 25,
       "text": [
        "([[0, 0, 0, 0, 0],\n",
        "  [1, 0, 0, 0, 0],\n",
        "  [0, 1, 0, 1, 0],\n",
        "  [0, 0, 1, 0, 1],\n",
        "  [0, 0, 0, 1, 0],\n",
        "  [0, 0, 0, 0, 1],\n",
        "  [0, 0, 1, 0, 0],\n",
        "  [1, 0, 0, 1, 0],\n",
        "  [1, 1, 0, 1, 1],\n",
        "  [1, 0, 1, 0, 0],\n",
        "  [0, 1, 0, 0, 0],\n",
        "  [1, 1, 0, 0, 0],\n",
        "  [0, 1, 0, 0, 1],\n",
        "  [0, 1, 1, 0, 0],\n",
        "  [1, 0, 0, 0, 1],\n",
        "  [0, 0, 1, 1, 1],\n",
        "  [0, 1, 1, 1, 0],\n",
        "  [0, 1, 0, 1, 1],\n",
        "  [1, 1, 0, 1, 0],\n",
        "  [0, 0, 0, 1, 1],\n",
        "  [0, 0, 1, 1, 0],\n",
        "  [0, 1, 1, 1, 1],\n",
        "  [1, 0, 1, 0, 1],\n",
        "  [1, 1, 1, 0, 1],\n",
        "  [1, 0, 1, 1, 0],\n",
        "  [1, 1, 1, 1, 0],\n",
        "  [1, 1, 0, 0, 1],\n",
        "  [1, 1, 1, 0, 0],\n",
        "  [0, 1, 1, 0, 1],\n",
        "  [1, 0, 0, 1, 1],\n",
        "  [1, 1, 1, 1, 1],\n",
        "  [1, 0, 1, 1, 1]],\n",
        " [1,\n",
        "  3,\n",
        "  5,\n",
        "  7,\n",
        "  10,\n",
        "  14,\n",
        "  17,\n",
        "  30,\n",
        "  35,\n",
        "  37,\n",
        "  51,\n",
        "  53,\n",
        "  56,\n",
        "  57,\n",
        "  63,\n",
        "  70,\n",
        "  75,\n",
        "  105,\n",
        "  135,\n",
        "  140,\n",
        "  170,\n",
        "  175,\n",
        "  273,\n",
        "  357,\n",
        "  370,\n",
        "  375,\n",
        "  532,\n",
        "  537,\n",
        "  567,\n",
        "  630,\n",
        "  735,\n",
        "  2730])"
       ]
      }
     ],
     "prompt_number": 25
    },
    {
     "cell_type": "code",
     "collapsed": false,
     "input": [],
     "language": "python",
     "metadata": {},
     "outputs": []
    }
   ],
   "metadata": {}
  }
 ]
}