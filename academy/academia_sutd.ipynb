{
 "metadata": {
  "name": "",
  "signature": "sha256:41215abc7f26d55e46af39a148ec86f222bbc550fc8e642d4e0a5f4713050919"
 },
 "nbformat": 3,
 "nbformat_minor": 0,
 "worksheets": [
  {
   "cells": [
    {
     "cell_type": "code",
     "collapsed": false,
     "input": [
      "import psycopg2\n",
      "'''\n",
      " username: g1iQW3C8259w\n",
      "    password: 7JKbM1BXAVIRSAiNq4vnbAh0o5OFnJZi\n",
      "    port: 2982\n",
      "    host: zonure.z0o.us\n",
      "    adapter: postgresql\n",
      "    database: growth\n",
      "    encoding: unicode\n",
      "'''"
     ],
     "language": "python",
     "metadata": {},
     "outputs": []
    },
    {
     "cell_type": "code",
     "collapsed": false,
     "input": [
      "     \n",
      "con = psycopg2.connect(database='growth',host='zonure.z0o.us', user='g1iQW3C8259w',\n",
      "                       password='7JKbM1BXAVIRSAiNq4vnbAh0o5OFnJZi', port=2982)\n",
      "cur = con.cursor()\n",
      "cur.execute('SELECT version()')         \n",
      "ver = cur.fetchone()\n",
      "print(ver)"
     ],
     "language": "python",
     "metadata": {},
     "outputs": []
    },
    {
     "cell_type": "code",
     "collapsed": false,
     "input": [],
     "language": "python",
     "metadata": {},
     "outputs": [],
     "prompt_number": 7
    },
    {
     "cell_type": "code",
     "collapsed": false,
     "input": [
      "cur.execute(\"SELECT * from sutd_events order by id limit 10;\")\n",
      "ver = cur.fetchone()\n",
      "print(ver)"
     ],
     "language": "python",
     "metadata": {},
     "outputs": [
      {
       "output_type": "stream",
       "stream": "stdout",
       "text": [
        "(3097530, 3423326, 1219803, 275234, datetime.datetime(2013, 3, 5, 14, 14, 45, 201153))\n"
       ]
      }
     ],
     "prompt_number": 42
    },
    {
     "cell_type": "code",
     "collapsed": false,
     "input": [],
     "language": "python",
     "metadata": {},
     "outputs": [],
     "prompt_number": 42
    },
    {
     "cell_type": "code",
     "collapsed": false,
     "input": [
      "import datetime as dt"
     ],
     "language": "python",
     "metadata": {},
     "outputs": [],
     "prompt_number": 30
    },
    {
     "cell_type": "code",
     "collapsed": false,
     "input": [
      "start_time = dt.datetime.strptime(\"2013-03-01\",\"%Y-%m-%d\")\n",
      "end_time = dt.datetime.strptime(\"2013-06-01\",\"%Y-%m-%d\")"
     ],
     "language": "python",
     "metadata": {},
     "outputs": [],
     "prompt_number": 35
    },
    {
     "cell_type": "code",
     "collapsed": false,
     "input": [
      "query = \"SELECT count(*) from sutd_events where created_at > '{0}' and created_at < '{1}';\".format(start_time,end_time)\n",
      "\n",
      "cur.execute(query)\n",
      "print(cur.fetchone())"
     ],
     "language": "python",
     "metadata": {},
     "outputs": []
    },
    {
     "cell_type": "code",
     "collapsed": false,
     "input": [
      "import pandas as pd"
     ],
     "language": "python",
     "metadata": {},
     "outputs": [],
     "prompt_number": 48
    },
    {
     "cell_type": "code",
     "collapsed": false,
     "input": [
      "data_query = \"SELECT * from sutd_events where created_at > '{0}' and created_at < '{1}';\".format(start_time,end_time)\n",
      "result = cur.execute(data_query)\n",
      "print(len(result))"
     ],
     "language": "python",
     "metadata": {},
     "outputs": []
    },
    {
     "cell_type": "code",
     "collapsed": false,
     "input": [
      "start_time = dt.datetime.strptime(\"2013-04-01\",\"%Y-%m-%d\")\n",
      "end_time = dt.datetime.strptime(\"2013-04-03\",\"%Y-%m-%d\")"
     ],
     "language": "python",
     "metadata": {},
     "outputs": []
    }
   ],
   "metadata": {}
  }
 ]
}