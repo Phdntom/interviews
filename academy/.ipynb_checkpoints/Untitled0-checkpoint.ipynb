{
 "metadata": {
  "name": "",
  "signature": "sha256:017313cb8d1bf65f5b77497c73f1401a6105859dccca38800331c9aacd20d325"
 },
 "nbformat": 3,
 "nbformat_minor": 0,
 "worksheets": []
}