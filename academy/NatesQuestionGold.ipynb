{
 "cells": [
  {
   "cell_type": "code",
   "execution_count": 1,
   "metadata": {},
   "outputs": [],
   "source": [
    "from __future__ import division, print_function"
   ]
  },
  {
   "cell_type": "code",
   "execution_count": null,
   "metadata": {},
   "outputs": [],
   "source": []
  },
  {
   "cell_type": "code",
   "execution_count": 2,
   "metadata": {},
   "outputs": [],
   "source": [
    "def bottles_kegs(num):\n",
    "    '''\n",
    "    '''\n",
    "    kegs = False\n",
    "    bottles = False\n",
    "    \n",
    "    kegs = (num % 5) == 0\n",
    "    bottles = (num % 7) == 0\n",
    "    \n",
    "    string_num = str(num)\n",
    "    if str(7) in string_num:\n",
    "        bottles = True\n",
    "    if str(5) in string_num:\n",
    "        kegs = True\n",
    "    if bottles and kegs:\n",
    "        print(\"Bottles and Kegs\")\n",
    "    elif bottles:\n",
    "        print(\"Bottles\")\n",
    "    elif kegs:\n",
    "        print(\"Kegs\")\n",
    "    else:\n",
    "        print(num)"
   ]
  },
  {
   "cell_type": "code",
   "execution_count": 3,
   "metadata": {},
   "outputs": [
    {
     "name": "stdout",
     "output_type": "stream",
     "text": [
      "4\n"
     ]
    }
   ],
   "source": [
    "bottles_kegs(4)"
   ]
  },
  {
   "cell_type": "code",
   "execution_count": 4,
   "metadata": {},
   "outputs": [
    {
     "name": "stdout",
     "output_type": "stream",
     "text": [
      "Bottles and Kegs\n"
     ]
    }
   ],
   "source": [
    "bottles_kegs(75)"
   ]
  },
  {
   "cell_type": "code",
   "execution_count": 5,
   "metadata": {},
   "outputs": [
    {
     "name": "stdout",
     "output_type": "stream",
     "text": [
      "Kegs\n"
     ]
    }
   ],
   "source": [
    "bottles_kegs(15)"
   ]
  },
  {
   "cell_type": "code",
   "execution_count": 6,
   "metadata": {},
   "outputs": [
    {
     "name": "stdout",
     "output_type": "stream",
     "text": [
      "Bottles\n"
     ]
    }
   ],
   "source": [
    "bottles_kegs(17)"
   ]
  },
  {
   "cell_type": "code",
   "execution_count": 7,
   "metadata": {},
   "outputs": [],
   "source": [
    "# number tests\n",
    "def div5(num):\n",
    "    '''\n",
    "    Returns True when num is divisible by 5\n",
    "    '''\n",
    "    return num % 5 == 0\n",
    "\n",
    "def div7(num):\n",
    "    return num % 7 == 0\n",
    "\n",
    "def has5(num):\n",
    "    return str(5) in str(num)\n",
    "\n",
    "def has7(num):\n",
    "    return str(7) in str(num)\n",
    "\n",
    "def has3(num):\n",
    "    return str(3) in str(num)\n",
    "    "
   ]
  },
  {
   "cell_type": "code",
   "execution_count": 8,
   "metadata": {},
   "outputs": [],
   "source": [
    "def find_test_nums(tests=None):\n",
    "    '''\n",
    "    Given N tests, we expect to find 2 ** N test nums\n",
    "    from the resummed binonial coefficients; viz.\n",
    "    (a+b)^N = Sum_i {N choose i} a^i b^(N-i).\n",
    "    Setting a = b = 1 e.g. for N = 2\n",
    "    (a+b)^2 = a^2 + 2ab + b^2 = 1 + 2 + 1 = 4 = 2^2\n",
    "    '''\n",
    "    if tests is None:\n",
    "        tests = [div5, div7, has5, has7]\n",
    "    test_vecs = []\n",
    "    test_nums = []\n",
    "    N = 0\n",
    "    # Depending on how you view 0 being a multiple of 5\n",
    "    # you can start i at 0 or 1 to fit your view.\n",
    "    i = 1\n",
    "    while N < ( 2 ** len(tests) ):\n",
    "        bit_vec = [0 for x in range(len(tests))]\n",
    "        for n, test in enumerate(tests):\n",
    "            if test(i):\n",
    "                bit_vec[n] = 1\n",
    "            \n",
    "        if bit_vec not in test_vecs:\n",
    "            test_vecs.append(bit_vec)\n",
    "            test_nums.append(i)\n",
    "            N += 1\n",
    "        i += 1\n",
    "\n",
    "    return test_vecs, test_nums\n",
    "        "
   ]
  },
  {
   "cell_type": "code",
   "execution_count": 9,
   "metadata": {},
   "outputs": [
    {
     "data": {
      "text/plain": [
       "([[0, 0, 0, 0],\n",
       "  [1, 0, 1, 0],\n",
       "  [0, 1, 0, 1],\n",
       "  [1, 0, 0, 0],\n",
       "  [0, 1, 0, 0],\n",
       "  [0, 0, 0, 1],\n",
       "  [1, 1, 1, 0],\n",
       "  [0, 0, 1, 0],\n",
       "  [0, 1, 1, 0],\n",
       "  [0, 0, 1, 1],\n",
       "  [1, 1, 0, 1],\n",
       "  [1, 0, 1, 1],\n",
       "  [1, 1, 0, 0],\n",
       "  [1, 0, 0, 1],\n",
       "  [1, 1, 1, 1],\n",
       "  [0, 1, 1, 1]],\n",
       " [1, 5, 7, 10, 14, 17, 35, 51, 56, 57, 70, 75, 140, 170, 175, 357])"
      ]
     },
     "execution_count": 9,
     "metadata": {},
     "output_type": "execute_result"
    }
   ],
   "source": [
    "find_test_nums()"
   ]
  },
  {
   "cell_type": "code",
   "execution_count": 10,
   "metadata": {},
   "outputs": [
    {
     "data": {
      "text/plain": [
       "0"
      ]
     },
     "execution_count": 10,
     "metadata": {},
     "output_type": "execute_result"
    }
   ],
   "source": [
    "0 % 5"
   ]
  },
  {
   "cell_type": "code",
   "execution_count": 11,
   "metadata": {},
   "outputs": [
    {
     "data": {
      "text/plain": [
       "([[0, 0, 0, 0, 0],\n",
       "  [1, 0, 0, 0, 0],\n",
       "  [0, 1, 0, 1, 0],\n",
       "  [0, 0, 1, 0, 1],\n",
       "  [0, 0, 0, 1, 0],\n",
       "  [0, 0, 0, 0, 1],\n",
       "  [0, 0, 1, 0, 0],\n",
       "  [1, 0, 0, 1, 0],\n",
       "  [1, 1, 0, 1, 1],\n",
       "  [1, 0, 1, 0, 0],\n",
       "  [0, 1, 0, 0, 0],\n",
       "  [1, 1, 0, 0, 0],\n",
       "  [0, 1, 0, 0, 1],\n",
       "  [0, 1, 1, 0, 0],\n",
       "  [1, 0, 0, 0, 1],\n",
       "  [0, 0, 1, 1, 1],\n",
       "  [0, 1, 1, 1, 0],\n",
       "  [0, 1, 0, 1, 1],\n",
       "  [1, 1, 0, 1, 0],\n",
       "  [0, 0, 0, 1, 1],\n",
       "  [0, 0, 1, 1, 0],\n",
       "  [0, 1, 1, 1, 1],\n",
       "  [1, 0, 1, 0, 1],\n",
       "  [1, 1, 1, 0, 1],\n",
       "  [1, 0, 1, 1, 0],\n",
       "  [1, 1, 1, 1, 0],\n",
       "  [1, 1, 0, 0, 1],\n",
       "  [1, 1, 1, 0, 0],\n",
       "  [0, 1, 1, 0, 1],\n",
       "  [1, 0, 0, 1, 1],\n",
       "  [1, 1, 1, 1, 1],\n",
       "  [1, 0, 1, 1, 1]],\n",
       " [1,\n",
       "  3,\n",
       "  5,\n",
       "  7,\n",
       "  10,\n",
       "  14,\n",
       "  17,\n",
       "  30,\n",
       "  35,\n",
       "  37,\n",
       "  51,\n",
       "  53,\n",
       "  56,\n",
       "  57,\n",
       "  63,\n",
       "  70,\n",
       "  75,\n",
       "  105,\n",
       "  135,\n",
       "  140,\n",
       "  170,\n",
       "  175,\n",
       "  273,\n",
       "  357,\n",
       "  370,\n",
       "  375,\n",
       "  532,\n",
       "  537,\n",
       "  567,\n",
       "  630,\n",
       "  735,\n",
       "  2730])"
      ]
     },
     "execution_count": 11,
     "metadata": {},
     "output_type": "execute_result"
    }
   ],
   "source": [
    "tests = [has3,has5,has7,div5,div7]\n",
    "find_test_nums(tests)"
   ]
  },
  {
   "cell_type": "code",
   "execution_count": 12,
   "metadata": {},
   "outputs": [
    {
     "ename": "NameError",
     "evalue": "name 'alhdajkdhasf' is not defined",
     "output_type": "error",
     "traceback": [
      "\u001b[0;31m---------------------------------------------------------------------------\u001b[0m",
      "\u001b[0;31mNameError\u001b[0m                                 Traceback (most recent call last)",
      "\u001b[0;32m<ipython-input-12-1403840b03f3>\u001b[0m in \u001b[0;36m<module>\u001b[0;34m()\u001b[0m\n\u001b[0;32m----> 1\u001b[0;31m \u001b[0malhdajkdhasf\u001b[0m\u001b[0;34m\u001b[0m\u001b[0m\n\u001b[0m",
      "\u001b[0;31mNameError\u001b[0m: name 'alhdajkdhasf' is not defined"
     ]
    }
   ],
   "source": [
    "alhdajkdhasf"
   ]
  },
  {
   "cell_type": "code",
   "execution_count": null,
   "metadata": {},
   "outputs": [],
   "source": []
  }
 ],
 "metadata": {
  "kernelspec": {
   "display_name": "Python 2",
   "language": "python",
   "name": "python2"
  },
  "language_info": {
   "codemirror_mode": {
    "name": "ipython",
    "version": 2
   },
   "file_extension": ".py",
   "mimetype": "text/x-python",
   "name": "python",
   "nbconvert_exporter": "python",
   "pygments_lexer": "ipython2",
   "version": "2.7.10"
  }
 },
 "nbformat": 4,
 "nbformat_minor": 1
}
