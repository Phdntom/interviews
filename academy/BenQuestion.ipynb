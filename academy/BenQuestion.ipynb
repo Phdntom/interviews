{
 "metadata": {
  "name": "",
  "signature": "sha256:b47e28f3459c0e1709f1cb3fdb969a11034722456b476a582865f9f623229269"
 },
 "nbformat": 3,
 "nbformat_minor": 0,
 "worksheets": [
  {
   "cells": [
    {
     "cell_type": "code",
     "collapsed": false,
     "input": [
      "import psycopg2\n",
      "'''\n",
      "    username: g1iQW3C8259w\n",
      "    password: 7JKbM1BXAVIRSAiNq4vnbAh0o5OFnJZi\n",
      "    port: 2982\n",
      "    host: zonure.z0o.us\n",
      "    adapter: postgresql\n",
      "    database: growth\n",
      "    encoding: unicode\n",
      "'''"
     ],
     "language": "python",
     "metadata": {},
     "outputs": [
      {
       "metadata": {},
       "output_type": "pyout",
       "prompt_number": 2,
       "text": [
        "'\\n    username: g1iQW3C8259w\\n    password: 7JKbM1BXAVIRSAiNq4vnbAh0o5OFnJZi\\n    port: 2982\\n    host: zonure.z0o.us\\n    adapter: postgresql\\n    database: growth\\n    encoding: unicode\\n'"
       ]
      }
     ],
     "prompt_number": 2
    },
    {
     "cell_type": "code",
     "collapsed": false,
     "input": [
      "con = psycopg2.connect(database='growth', host='zonure.z0o.us', port=2982,\n",
      "                          user='g1iQW3C8259w', password='7JKbM1BXAVIRSAiNq4vnbAh0o5OFnJZi')"
     ],
     "language": "python",
     "metadata": {},
     "outputs": [
      {
       "ename": "OperationalError",
       "evalue": "could not connect to server: Connection refused\n\tIs the server running on host \"zonure.z0o.us\" (54.226.170.12) and accepting\n\tTCP/IP connections on port 2982?\n",
       "output_type": "pyerr",
       "traceback": [
        "\u001b[1;31m---------------------------------------------------------------------------\u001b[0m\n\u001b[1;31mOperationalError\u001b[0m                          Traceback (most recent call last)",
        "\u001b[1;32m<ipython-input-6-e4db6ea3ecf8>\u001b[0m in \u001b[0;36m<module>\u001b[1;34m()\u001b[0m\n\u001b[0;32m      1\u001b[0m con = psycopg2.connect(database='growth', host='zonure.z0o.us', port=2982,\n\u001b[1;32m----> 2\u001b[1;33m                           user='g1iQW3C8259w', password='7JKbM1BXAVIRSAiNq4vnbAh0o5OFnJZi')\n\u001b[0m",
        "\u001b[1;32m/usr/local/lib/python2.7/dist-packages/psycopg2/__init__.pyc\u001b[0m in \u001b[0;36mconnect\u001b[1;34m(dsn, database, user, password, host, port, connection_factory, cursor_factory, async, **kwargs)\u001b[0m\n\u001b[0;32m    162\u001b[0m                 for (k, v) in items])\n\u001b[0;32m    163\u001b[0m \u001b[1;33m\u001b[0m\u001b[0m\n\u001b[1;32m--> 164\u001b[1;33m     \u001b[0mconn\u001b[0m \u001b[1;33m=\u001b[0m \u001b[0m_connect\u001b[0m\u001b[1;33m(\u001b[0m\u001b[0mdsn\u001b[0m\u001b[1;33m,\u001b[0m \u001b[0mconnection_factory\u001b[0m\u001b[1;33m=\u001b[0m\u001b[0mconnection_factory\u001b[0m\u001b[1;33m,\u001b[0m \u001b[0masync\u001b[0m\u001b[1;33m=\u001b[0m\u001b[0masync\u001b[0m\u001b[1;33m)\u001b[0m\u001b[1;33m\u001b[0m\u001b[0m\n\u001b[0m\u001b[0;32m    165\u001b[0m     \u001b[1;32mif\u001b[0m \u001b[0mcursor_factory\u001b[0m \u001b[1;32mis\u001b[0m \u001b[1;32mnot\u001b[0m \u001b[0mNone\u001b[0m\u001b[1;33m:\u001b[0m\u001b[1;33m\u001b[0m\u001b[0m\n\u001b[0;32m    166\u001b[0m         \u001b[0mconn\u001b[0m\u001b[1;33m.\u001b[0m\u001b[0mcursor_factory\u001b[0m \u001b[1;33m=\u001b[0m \u001b[0mcursor_factory\u001b[0m\u001b[1;33m\u001b[0m\u001b[0m\n",
        "\u001b[1;31mOperationalError\u001b[0m: could not connect to server: Connection refused\n\tIs the server running on host \"zonure.z0o.us\" (54.226.170.12) and accepting\n\tTCP/IP connections on port 2982?\n"
       ]
      }
     ],
     "prompt_number": 6
    },
    {
     "cell_type": "code",
     "collapsed": false,
     "input": [],
     "language": "python",
     "metadata": {},
     "outputs": []
    }
   ],
   "metadata": {}
  }
 ]
}