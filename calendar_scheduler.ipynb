{
 "cells": [
  {
   "cell_type": "code",
   "execution_count": null,
   "metadata": {},
   "outputs": [],
   "source": []
  },
  {
   "cell_type": "code",
   "execution_count": 111,
   "metadata": {},
   "outputs": [
    {
     "data": {
      "text/plain": [
       "[['', '10:00'],\n",
       " ['09:00', '10:30'],\n",
       " ['10:00', '11:30'],\n",
       " ['12:00', '13:00'],\n",
       " ['12:30', '14:30'],\n",
       " ['14:30', '15:00'],\n",
       " ['16:00', '17:00'],\n",
       " ['16:00', '18:00'],\n",
       " ['18:30', '']]"
      ]
     },
     "execution_count": 111,
     "metadata": {},
     "output_type": "execute_result"
    }
   ],
   "source": [
    "\n",
    "c1 = [\n",
    "    ['09:00', '10:30'],\n",
    "    ['12:00', '13:00'],\n",
    "    ['16:00', '18:00'],\n",
    "]\n",
    "a1 = ['09:00', '20:00']\n",
    "\n",
    "c2 = [\n",
    "    ['10:00', '11:30'],\n",
    "    ['12:30', '14:30'],\n",
    "    ['14:30', '15:00'],\n",
    "    ['16:00', '17:00']\n",
    "]\n",
    "a2 = ['10:00', '18:30']\n",
    "\n",
    "start = max(a1[0], a2[0])\n",
    "end = min(a1[1], a2[1])\n",
    "ls = []\n",
    "ls.append(['', start])\n",
    "\n",
    "def get_val(t1):\n",
    "    h, m = t1.split(':')\n",
    "    h = int(h)\n",
    "    m = int(m)\n",
    "    return h + m / 60\n",
    "\n",
    "while c1 or c2:\n",
    "    try:\n",
    "        c1_top = c1[0]\n",
    "    except IndexError:\n",
    "        ls.extend(c2)\n",
    "        break\n",
    "    try:\n",
    "        c2_top = c2[0]\n",
    "    except IndexError:\n",
    "        ls.extend(c1)\n",
    "        break\n",
    "    v1 = get_val(c1_top[0])\n",
    "    v2 = get_val(c2_top[0])\n",
    "    if  v1 < v2:\n",
    "        ls.append(c1.pop(0))\n",
    "    else:\n",
    "        ls.append(c2.pop(0))\n",
    "ls.append([end, ''])\n",
    "ls"
   ]
  },
  {
   "cell_type": "code",
   "execution_count": 112,
   "metadata": {},
   "outputs": [],
   "source": [
    "#[11:30, 12:00], [15:00, 16:00], [18:00, 18:30]"
   ]
  },
  {
   "cell_type": "code",
   "execution_count": 113,
   "metadata": {},
   "outputs": [
    {
     "name": "stdout",
     "output_type": "stream",
     "text": [
      "['', '10:00']\n",
      "['09:00', '10:30']\n",
      "['10:00', '11:30']\n",
      "0.5\n",
      "['12:00', '13:00']\n",
      "['12:30', '14:30']\n",
      "['14:30', '15:00']\n",
      "1.0\n",
      "['16:00', '17:00']\n",
      "['16:00', '18:00']\n",
      "0.5\n",
      "['18:30', '']\n"
     ]
    }
   ],
   "source": [
    "avail = []\n",
    "while ls:\n",
    "    cur = ls.pop(0)\n",
    "    print(cur)\n",
    "    try:\n",
    "        nex = ls[0]\n",
    "    except IndexError:\n",
    "        break\n",
    "    v1 = get_val(cur[1])\n",
    "    v2 = get_val(nex[0])\n",
    "    if v1 < v2:\n",
    "        window = [cur[1], nex[0]]\n",
    "        dur = v2 - v1\n",
    "        print(dur)\n",
    "        if dur < 30 / 60:\n",
    "            continue\n",
    "        avail.append(window)"
   ]
  },
  {
   "cell_type": "code",
   "execution_count": 114,
   "metadata": {},
   "outputs": [
    {
     "data": {
      "text/plain": [
       "[['11:30', '12:00'], ['15:00', '16:00'], ['18:00', '18:30']]"
      ]
     },
     "execution_count": 114,
     "metadata": {},
     "output_type": "execute_result"
    }
   ],
   "source": [
    "avail"
   ]
  },
  {
   "cell_type": "code",
   "execution_count": null,
   "metadata": {},
   "outputs": [],
   "source": []
  },
  {
   "cell_type": "code",
   "execution_count": null,
   "metadata": {},
   "outputs": [],
   "source": []
  },
  {
   "cell_type": "code",
   "execution_count": null,
   "metadata": {},
   "outputs": [],
   "source": []
  }
 ],
 "metadata": {
  "kernelspec": {
   "display_name": "Python 3",
   "language": "python",
   "name": "python3"
  },
  "language_info": {
   "codemirror_mode": {
    "name": "ipython",
    "version": 3
   },
   "file_extension": ".py",
   "mimetype": "text/x-python",
   "name": "python",
   "nbconvert_exporter": "python",
   "pygments_lexer": "ipython3",
   "version": "3.7.3"
  }
 },
 "nbformat": 4,
 "nbformat_minor": 4
}
