{
 "cells": [
  {
   "cell_type": "code",
   "execution_count": 1,
   "metadata": {
    "collapsed": true
   },
   "outputs": [],
   "source": [
    "from __future__ import division, print_function"
   ]
  },
  {
   "cell_type": "code",
   "execution_count": 2,
   "metadata": {
    "collapsed": true
   },
   "outputs": [],
   "source": [
    "valid_words = {'sam', 'sample', 'word', 'words', 'here', 'he', 'or', 'amp', 'are', 'face', 'book', 'bo', 'ok', 'fair', 'a', 'haha', 'ah', 'ha'}"
   ]
  },
  {
   "cell_type": "code",
   "execution_count": null,
   "metadata": {
    "collapsed": true
   },
   "outputs": [],
   "source": []
  },
  {
   "cell_type": "code",
   "execution_count": 3,
   "metadata": {
    "collapsed": true
   },
   "outputs": [],
   "source": [
    "test = 'samplewordwordhereare'"
   ]
  },
  {
   "cell_type": "code",
   "execution_count": 4,
   "metadata": {
    "collapsed": false
   },
   "outputs": [
    {
     "data": {
      "text/plain": [
       "('', 'samplewordwordhereare')"
      ]
     },
     "execution_count": 4,
     "metadata": {},
     "output_type": "execute_result"
    }
   ],
   "source": [
    "split_loc = 0\n",
    "piece1, piece2 = test[:0], test[0:]\n",
    "piece1, piece2"
   ]
  },
  {
   "cell_type": "code",
   "execution_count": 5,
   "metadata": {
    "collapsed": false
   },
   "outputs": [],
   "source": [
    "def subwords(word):\n",
    "    '''\n",
    "    Returns a list of valid word splits\n",
    "    \n",
    "    or None if there are no such splits.\n",
    "    \n",
    "    '''\n",
    "    if word in valid_words:\n",
    "        return [word]\n",
    "    \n",
    "    L = len(word)\n",
    "    print(L, word)\n",
    "    keep = []\n",
    "    for split_loc in range(1, L):\n",
    "        piece1, piece2 = word[:split_loc], word[split_loc:]\n",
    "\n",
    "        if piece1 in valid_words:\n",
    "            print(piece1, piece2)\n",
    "            sub_split = subwords(piece2)\n",
    "            if sub_split is not None:\n",
    "                keep.append([piece1] + sub_split)\n",
    "    if keep:\n",
    "        return keep\n",
    "    return None"
   ]
  },
  {
   "cell_type": "code",
   "execution_count": 6,
   "metadata": {
    "collapsed": false
   },
   "outputs": [
    {
     "name": "stdout",
     "output_type": "stream",
     "text": [
      "21 samplewordwordhereare\n",
      "sam plewordwordhereare\n",
      "18 plewordwordhereare\n",
      "sample wordwordhereare\n",
      "15 wordwordhereare\n",
      "word wordhereare\n",
      "11 wordhereare\n",
      "word hereare\n",
      "7 hereare\n",
      "he reare\n",
      "5 reare\n",
      "here are\n"
     ]
    },
    {
     "data": {
      "text/plain": [
       "[['sample', ['word', ['word', ['here', 'are']]]]]"
      ]
     },
     "execution_count": 6,
     "metadata": {},
     "output_type": "execute_result"
    }
   ],
   "source": [
    "subwords(test)"
   ]
  },
  {
   "cell_type": "code",
   "execution_count": 7,
   "metadata": {
    "collapsed": false
   },
   "outputs": [
    {
     "name": "stdout",
     "output_type": "stream",
     "text": [
      "17 facebookahahafair\n",
      "face bookahahafair\n",
      "13 bookahahafair\n",
      "bo okahahafair\n",
      "11 okahahafair\n",
      "ok ahahafair\n",
      "9 ahahafair\n",
      "a hahafair\n",
      "8 hahafair\n",
      "ha hafair\n",
      "6 hafair\n",
      "ha fair\n",
      "haha fair\n",
      "ah ahafair\n",
      "7 ahafair\n",
      "a hafair\n",
      "6 hafair\n",
      "ha fair\n",
      "ah afair\n",
      "5 afair\n",
      "a fair\n",
      "book ahahafair\n",
      "9 ahahafair\n",
      "a hahafair\n",
      "8 hahafair\n",
      "ha hafair\n",
      "6 hafair\n",
      "ha fair\n",
      "haha fair\n",
      "ah ahafair\n",
      "7 ahafair\n",
      "a hafair\n",
      "6 hafair\n",
      "ha fair\n",
      "ah afair\n",
      "5 afair\n",
      "a fair\n"
     ]
    },
    {
     "data": {
      "text/plain": [
       "[['face',\n",
       "  ['bo',\n",
       "   ['ok',\n",
       "    ['a', ['ha', ['ha', 'fair']], ['haha', 'fair']],\n",
       "    ['ah', ['a', ['ha', 'fair']], ['ah', ['a', 'fair']]]]],\n",
       "  ['book',\n",
       "   ['a', ['ha', ['ha', 'fair']], ['haha', 'fair']],\n",
       "   ['ah', ['a', ['ha', 'fair']], ['ah', ['a', 'fair']]]]]]"
      ]
     },
     "execution_count": 7,
     "metadata": {},
     "output_type": "execute_result"
    }
   ],
   "source": [
    "subwords('facebookahahafair')"
   ]
  },
  {
   "cell_type": "code",
   "execution_count": null,
   "metadata": {
    "collapsed": false
   },
   "outputs": [],
   "source": [
    "\n"
   ]
  },
  {
   "cell_type": "code",
   "execution_count": null,
   "metadata": {
    "collapsed": true
   },
   "outputs": [],
   "source": []
  },
  {
   "cell_type": "code",
   "execution_count": null,
   "metadata": {
    "collapsed": true
   },
   "outputs": [],
   "source": []
  },
  {
   "cell_type": "code",
   "execution_count": 2,
   "metadata": {
    "collapsed": false
   },
   "outputs": [
    {
     "data": {
      "text/plain": [
       "0.8959499339841664"
      ]
     },
     "execution_count": 2,
     "metadata": {},
     "output_type": "execute_result"
    }
   ],
   "source": [
    "import numpy as np\n",
    "np.random.uniform()"
   ]
  },
  {
   "cell_type": "code",
   "execution_count": 21,
   "metadata": {
    "collapsed": true
   },
   "outputs": [],
   "source": [
    "stream_reader = [9, 25, 23, 89, 56, 231, 12, 189, None]"
   ]
  },
  {
   "cell_type": "code",
   "execution_count": 15,
   "metadata": {
    "collapsed": false
   },
   "outputs": [],
   "source": [
    "def sample_stream(stream_reader):\n",
    "    i = 0\n",
    "    storage = None\n",
    "    for item in stream_reader:\n",
    "        if item is None:\n",
    "            break\n",
    "        i += 1\n",
    "        r = np.random.uniform()\n",
    "        #print(1 / i, r)\n",
    "        if r < (1 / i):\n",
    "            storage = item\n",
    "            \n",
    "    return storage"
   ]
  },
  {
   "cell_type": "code",
   "execution_count": 16,
   "metadata": {
    "collapsed": false
   },
   "outputs": [
    {
     "data": {
      "text/plain": [
       "89"
      ]
     },
     "execution_count": 16,
     "metadata": {},
     "output_type": "execute_result"
    }
   ],
   "source": [
    "sample_stream(stream_reader)"
   ]
  },
  {
   "cell_type": "code",
   "execution_count": 17,
   "metadata": {
    "collapsed": true
   },
   "outputs": [],
   "source": [
    "from collections import defaultdict"
   ]
  },
  {
   "cell_type": "code",
   "execution_count": 24,
   "metadata": {
    "collapsed": true
   },
   "outputs": [],
   "source": []
  },
  {
   "cell_type": "code",
   "execution_count": 32,
   "metadata": {
    "collapsed": true
   },
   "outputs": [],
   "source": [
    "counts = defaultdict(int)\n",
    "for i in range(100000):\n",
    "    answer = sample_stream(stream_reader)\n",
    "    counts[answer] += 1"
   ]
  },
  {
   "cell_type": "code",
   "execution_count": 33,
   "metadata": {
    "collapsed": false
   },
   "outputs": [
    {
     "data": {
      "text/plain": [
       "defaultdict(int,\n",
       "            {9: 12488,\n",
       "             12: 12519,\n",
       "             23: 12508,\n",
       "             25: 12498,\n",
       "             56: 12535,\n",
       "             89: 12600,\n",
       "             189: 12444,\n",
       "             231: 12408})"
      ]
     },
     "execution_count": 33,
     "metadata": {},
     "output_type": "execute_result"
    }
   ],
   "source": [
    "counts"
   ]
  },
  {
   "cell_type": "code",
   "execution_count": 34,
   "metadata": {
    "collapsed": false
   },
   "outputs": [
    {
     "data": {
      "text/plain": [
       "(12500.0, 54.080957831754425)"
      ]
     },
     "execution_count": 34,
     "metadata": {},
     "output_type": "execute_result"
    }
   ],
   "source": [
    "np.mean(counts.values()), np.std(counts.values())"
   ]
  },
  {
   "cell_type": "code",
   "execution_count": 51,
   "metadata": {
    "collapsed": true
   },
   "outputs": [],
   "source": [
    "word = 'facebook'\n",
    "error = 'facevook'"
   ]
  },
  {
   "cell_type": "code",
   "execution_count": 56,
   "metadata": {
    "collapsed": false
   },
   "outputs": [],
   "source": [
    "def check_oneoff(word1, word2):\n",
    "    error_count = 0\n",
    "    for pair in zip(word1, word2):\n",
    "        if pair[0] != pair[1]:\n",
    "            error_count += 1\n",
    "    return error_count < 2"
   ]
  },
  {
   "cell_type": "code",
   "execution_count": 57,
   "metadata": {
    "collapsed": false
   },
   "outputs": [
    {
     "data": {
      "text/plain": [
       "True"
      ]
     },
     "execution_count": 57,
     "metadata": {},
     "output_type": "execute_result"
    }
   ],
   "source": []
  },
  {
   "cell_type": "code",
   "execution_count": null,
   "metadata": {
    "collapsed": true
   },
   "outputs": [],
   "source": []
  }
 ],
 "metadata": {
  "kernelspec": {
   "display_name": "Python 2",
   "language": "python",
   "name": "python2"
  },
  "language_info": {
   "codemirror_mode": {
    "name": "ipython",
    "version": 2
   },
   "file_extension": ".py",
   "mimetype": "text/x-python",
   "name": "python",
   "nbconvert_exporter": "python",
   "pygments_lexer": "ipython2",
   "version": "2.7.6"
  }
 },
 "nbformat": 4,
 "nbformat_minor": 1
}
