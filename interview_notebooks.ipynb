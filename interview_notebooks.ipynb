{
 "cells": [
  {
   "cell_type": "code",
   "execution_count": null,
   "metadata": {
    "collapsed": true
   },
   "outputs": [],
   "source": [
    "# Topic: FizzBuzz Screen - Basic Coding, Logical Program Design"
   ]
  },
  {
   "cell_type": "markdown",
   "metadata": {},
   "source": [
    "So you want to be a Foosballer?\n",
    "===============================\n",
    "\n",
    "Write a function, FoosBaller(x), that takes as input a positive integer x and prints output\n",
    "according to the following rules:\n",
    "\n",
    "Output, condition for that output\n",
    "---------------------------------\n",
    "\n",
    "'Foos', When x is a multiple of 3\n",
    "\n",
    "'Foos', When x contains the digit 3\n",
    "\n",
    "'Ball', When x is a multiple of 5\n",
    "\n",
    "'Ball', When x contains the digit 5\n",
    "\n",
    "'Foosball', When x satisfies (1) or (2) and (3) or (4)\n",
    "\n",
    "x, for all other conditions\n",
    "\n",
    "\n",
    "Examples\n",
    "--------\n",
    "FoosBaller(4)\n",
    "\n",
    "4\n",
    "\n",
    "FoosBaller(3)\n",
    "\n",
    "Foos\n",
    "\n",
    "FoosBaller(23)\n",
    "\n",
    "Foos\n",
    "\n",
    "FoosBaller(35)\n",
    "\n",
    "Foosball\n",
    "\n",
    "\n"
   ]
  },
  {
   "cell_type": "code",
   "execution_count": 1,
   "metadata": {
    "collapsed": true
   },
   "outputs": [],
   "source": [
    "from __future__ import division, print_function"
   ]
  },
  {
   "cell_type": "code",
   "execution_count": 16,
   "metadata": {
    "collapsed": false
   },
   "outputs": [],
   "source": [
    "def FoosBaller(x):\n",
    "    '''\n",
    "    Concise.\n",
    "    \n",
    "    Single assignment for `fooser` and `baller` reduce error chance in\n",
    "    assignment steps.\n",
    "    \n",
    "    Must have the print('Foosball') statement first in the if elif else chain.\n",
    "    \n",
    "    '''\n",
    "    fooser = (x % 3 == 0) or ( '3' in str(x))\n",
    "    baller = (x % 5 == 0) or ( '5' in str(x))\n",
    "    \n",
    "    if fooser and baller:\n",
    "        print('Foosball')\n",
    "    elif fooser:\n",
    "        print('Foos')\n",
    "    elif baller:\n",
    "        print('Ball')\n",
    "    else:\n",
    "        print(x)\n",
    "        \n",
    "def FoosBaller2(num):\n",
    "    '''\n",
    "    Optional Presassignments with checks for upgrading to True value.\n",
    "    \n",
    "    '''\n",
    "    fooser = False\n",
    "    baller = False\n",
    "    \n",
    "    # multiples\n",
    "    if (num % 3) == 0:\n",
    "        fooser = True\n",
    "    #else: kegs = False ### This is ok if no preassignments\n",
    "    if (num % 5) == 0:\n",
    "        baller = True\n",
    "    #else: bottles = False ### This is ok if no preassignments\n",
    "    \n",
    "    if '3' in str(num):\n",
    "        fooser = True\n",
    "    #else: kegs = False ### DON'T DO THIS!\n",
    "    if '5' in str(num):\n",
    "        baller = True\n",
    "    #else: bottles = False ### DON'T DO THIS!        \n",
    "        \n",
    "\n",
    "    if fooser and baller:\n",
    "        print(\"Foosball\")\n",
    "    elif fooser:\n",
    "        print(\"Foos\")\n",
    "    elif baller:\n",
    "        print(\"Ball\")\n",
    "    else:\n",
    "        print(num)"
   ]
  },
  {
   "cell_type": "code",
   "execution_count": 23,
   "metadata": {
    "collapsed": true
   },
   "outputs": [],
   "source": []
  },
  {
   "cell_type": "code",
   "execution_count": 30,
   "metadata": {
    "collapsed": false
   },
   "outputs": [
    {
     "name": "stdout",
     "output_type": "stream",
     "text": [
      "Bottles and Kegs\n"
     ]
    }
   ],
   "source": [
    "bottles_kegs(30)"
   ]
  },
  {
   "cell_type": "code",
   "execution_count": 31,
   "metadata": {
    "collapsed": false
   },
   "outputs": [
    {
     "name": "stdout",
     "output_type": "stream",
     "text": [
      "Foosball\n"
     ]
    }
   ],
   "source": [
    "FoosBaller(30)"
   ]
  },
  {
   "cell_type": "code",
   "execution_count": 4,
   "metadata": {
    "collapsed": true
   },
   "outputs": [],
   "source": [
    "def div5(num):\n",
    "    '''\n",
    "    Returns True when num is divisible by 5\n",
    "    '''\n",
    "    return num % 5 == 0\n",
    "\n",
    "def div7(num):\n",
    "    return num % 7 == 0\n",
    "\n",
    "def has5(num):\n",
    "    return str(5) in str(num)\n",
    "\n",
    "def has7(num):\n",
    "    return str(7) in str(num)\n",
    "\n",
    "def has3(num):\n",
    "    return str(3) in str(num)\n",
    "\n",
    "def div3(num):\n",
    "    return num % 3 == 0"
   ]
  },
  {
   "cell_type": "code",
   "execution_count": null,
   "metadata": {
    "collapsed": true
   },
   "outputs": [],
   "source": []
  },
  {
   "cell_type": "code",
   "execution_count": 8,
   "metadata": {
    "collapsed": true
   },
   "outputs": [],
   "source": [
    "def find_test_nums(tests=None):\n",
    "    '''\n",
    "    Given N tests, we expect to find 2 ** N test nums\n",
    "    from the resummed binonial coefficients; viz.\n",
    "    (a+b)^N = Sum_i {N choose i} a^i b^(N-i).\n",
    "    Setting a = b = 1 e.g. for N = 2\n",
    "    (a+b)^2 = a^2 + 2ab + b^2 = 1 + 2 + 1 = 4 = 2^2\n",
    "    '''\n",
    "    if tests is None:\n",
    "        tests = [div3, div5, has3, has5]\n",
    "    test_vecs = []\n",
    "    test_nums = []\n",
    "    N = 0\n",
    "    # Depending on how you view 0 being a multiple of 5\n",
    "    # you can start i at 0 or 1 to fit your view.\n",
    "    i = 1\n",
    "    while N < ( 2 ** len(tests) ):\n",
    "        bit_vec = [0 for x in range(len(tests))]\n",
    "        for n, test in enumerate(tests):\n",
    "            if test(i):\n",
    "                bit_vec[n] = 1\n",
    "            \n",
    "        if bit_vec not in test_vecs:\n",
    "            test_vecs.append(bit_vec)\n",
    "            test_nums.append(i)\n",
    "            N += 1\n",
    "        i += 1\n",
    "\n",
    "    return zip(test_vecs, test_nums)\n",
    "        "
   ]
  },
  {
   "cell_type": "code",
   "execution_count": 9,
   "metadata": {
    "collapsed": false
   },
   "outputs": [
    {
     "data": {
      "text/plain": [
       "[([0, 0, 0, 0], 1),\n",
       " ([1, 0, 1, 0], 3),\n",
       " ([0, 1, 0, 1], 5),\n",
       " ([1, 0, 0, 0], 6),\n",
       " ([0, 1, 0, 0], 10),\n",
       " ([0, 0, 1, 0], 13),\n",
       " ([1, 1, 0, 1], 15),\n",
       " ([1, 1, 1, 0], 30),\n",
       " ([0, 1, 1, 1], 35),\n",
       " ([1, 0, 0, 1], 51),\n",
       " ([0, 0, 0, 1], 52),\n",
       " ([0, 0, 1, 1], 53),\n",
       " ([1, 1, 0, 0], 60),\n",
       " ([0, 1, 1, 0], 130),\n",
       " ([1, 1, 1, 1], 135),\n",
       " ([1, 0, 1, 1], 153)]"
      ]
     },
     "execution_count": 9,
     "metadata": {},
     "output_type": "execute_result"
    }
   ],
   "source": [
    "find_test_nums()"
   ]
  },
  {
   "cell_type": "code",
   "execution_count": null,
   "metadata": {
    "collapsed": true
   },
   "outputs": [],
   "source": []
  },
  {
   "cell_type": "code",
   "execution_count": null,
   "metadata": {
    "collapsed": true
   },
   "outputs": [],
   "source": [
    "fizzz = {3: 'Fizz', 5: 'Buzz'}\n",
    "\n",
    "\n",
    "        "
   ]
  },
  {
   "cell_type": "code",
   "execution_count": null,
   "metadata": {
    "collapsed": true
   },
   "outputs": [],
   "source": []
  },
  {
   "cell_type": "code",
   "execution_count": null,
   "metadata": {
    "collapsed": true
   },
   "outputs": [],
   "source": []
  },
  {
   "cell_type": "code",
   "execution_count": null,
   "metadata": {
    "collapsed": true
   },
   "outputs": [],
   "source": []
  }
 ],
 "metadata": {
  "kernelspec": {
   "display_name": "Python 2",
   "language": "python",
   "name": "python2"
  },
  "language_info": {
   "codemirror_mode": {
    "name": "ipython",
    "version": 2
   },
   "file_extension": ".py",
   "mimetype": "text/x-python",
   "name": "python",
   "nbconvert_exporter": "python",
   "pygments_lexer": "ipython2",
   "version": "2.7.10"
  }
 },
 "nbformat": 4,
 "nbformat_minor": 1
}
