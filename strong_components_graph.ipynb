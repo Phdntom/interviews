{
 "cells": [
  {
   "cell_type": "code",
   "execution_count": null,
   "metadata": {},
   "outputs": [],
   "source": []
  },
  {
   "cell_type": "code",
   "execution_count": 1,
   "metadata": {},
   "outputs": [],
   "source": [
    "nodes = [\n",
    "    'BGI', 'CDG', 'DEL', 'DOH', 'DSM', 'EWR',\n",
    "    'EYW', 'HND', 'ICN', 'JFK', 'LGA', 'LHR',\n",
    "    'ORD', 'SAN', 'SFO', 'SIN', 'TLV', 'BUD'   \n",
    "] # airports\n",
    "edges = [\n",
    "    ('DSM', 'ORD'),\n",
    "    ('ORD', 'BGI'),\n",
    "    ('BGI', 'LGA'),\n",
    "    ('SIN', 'CDG'),\n",
    "    ('CDG', 'SIN'),\n",
    "    ('CDG', 'BUD'),\n",
    "    ('DEL', 'DOH'),\n",
    "    ('DEL', 'CDG'),\n",
    "    ('TLV', 'DEL'),\n",
    "    ('EWR', 'HND'),\n",
    "    ('HND', 'ICN'),\n",
    "    ('HND', 'JFK'),\n",
    "    ('ICN', 'JFK'),\n",
    "    ('JFK', 'LGA'),\n",
    "    ('EYW', 'LHR'),\n",
    "    ('LHR', 'SFO'),\n",
    "    ('SFO', 'SAN'),\n",
    "    ('SFO', 'DSM'),\n",
    "    ('SAN', 'EYW')\n",
    "] # routes\n",
    "\n",
    "start = 'LGA'\n",
    "\n",
    "Q: Find the minimum number of routes you will need to add so that all airports are reachable from `start` airport.\n",
    "A: 3"
   ]
  },
  {
   "cell_type": "code",
   "execution_count": 2,
   "metadata": {},
   "outputs": [],
   "source": [
    "def Kosaraju_Algorithm(nodes, adj):\n",
    "    '''\n",
    "    https://en.wikipedia.org/wiki/Kosaraju%27s_algorithm\n",
    "    \n",
    "    Key point is post traversal edge ordering from the visit and assign searches.\n",
    "    Given edge (u -> v), u will be on beneath v on the stack because `visit(v)` will\n",
    "    be invoked before append(u). When the assign step is done, `u` will be popped first\n",
    "    and `v` made part of its strong component.\n",
    "    \n",
    "    '''\n",
    "    visited = defaultdict(bool)\n",
    "    stack = []\n",
    "    \n",
    "    def visit(u):\n",
    "        if visited[u]:\n",
    "            return\n",
    "        visited[u] = 1\n",
    "        for v in adj[u]:\n",
    "            visit(v)\n",
    "        stack.append(u)\n",
    "    for u in nodes:\n",
    "        visit(u)\n",
    "\n",
    "    assigned = defaultdict(str)\n",
    "    def assign(u, root):\n",
    "        if assigned[u]:\n",
    "            return\n",
    "        assigned[u] = root\n",
    "        for v in radj[u]:\n",
    "            assign(v, root)\n",
    "    while stack:\n",
    "        u = stack.pop()\n",
    "        assign(u, u)\n",
    "    \n",
    "    return dict(assigned)"
   ]
  },
  {
   "cell_type": "code",
   "execution_count": 11,
   "metadata": {},
   "outputs": [
    {
     "data": {
      "text/plain": [
       "3"
      ]
     },
     "execution_count": 11,
     "metadata": {},
     "output_type": "execute_result"
    }
   ],
   "source": [
    "# build adj and reverse adj lists\n",
    "from collections import defaultdict\n",
    "adj = defaultdict(list)\n",
    "radj = defaultdict(list)\n",
    "for u, v in edges:\n",
    "    adj[u].append(v)\n",
    "    radj[v].append(u)\n",
    "    \n",
    "# find strongly connected components\n",
    "component = Kosaraju_Algorithm(nodes, adj)     \n",
    "\n",
    "degree = dict([(u, 0) for u in nodes])\n",
    "for u in nodes:\n",
    "    #print(u, component[u])\n",
    "    for v in adj[u]:\n",
    "        # work with the \"compacted\" graph by ignoring edges that are within strong components\n",
    "        if component[u] != component[v]:\n",
    "            degree[component[v]] += 1\n",
    "#print(degree)\n",
    "count = 0\n",
    "for u in nodes:\n",
    "    # only count root nodes of strong components\n",
    "    if component[u] != u:\n",
    "        continue\n",
    "    # don't count the start node\n",
    "    if component[u] == component[start]:\n",
    "        continue\n",
    "    if degree[u] == 0:\n",
    "        count += 1\n",
    "count"
   ]
  },
  {
   "cell_type": "code",
   "execution_count": null,
   "metadata": {},
   "outputs": [],
   "source": []
  },
  {
   "cell_type": "code",
   "execution_count": null,
   "metadata": {},
   "outputs": [],
   "source": []
  }
 ],
 "metadata": {
  "kernelspec": {
   "display_name": "Python 3",
   "language": "python",
   "name": "python3"
  },
  "language_info": {
   "codemirror_mode": {
    "name": "ipython",
    "version": 3
   },
   "file_extension": ".py",
   "mimetype": "text/x-python",
   "name": "python",
   "nbconvert_exporter": "python",
   "pygments_lexer": "ipython3",
   "version": "3.7.3"
  }
 },
 "nbformat": 4,
 "nbformat_minor": 4
}
