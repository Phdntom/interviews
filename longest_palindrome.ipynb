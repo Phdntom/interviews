{
 "cells": [
  {
   "cell_type": "code",
   "execution_count": 1,
   "metadata": {},
   "outputs": [],
   "source": [
    "# palindrome"
   ]
  },
  {
   "cell_type": "code",
   "execution_count": 3,
   "metadata": {},
   "outputs": [
    {
     "data": {
      "text/plain": [
       "'ccbba'"
      ]
     },
     "execution_count": 3,
     "metadata": {},
     "output_type": "execute_result"
    }
   ],
   "source": [
    "def reverse_str(string):\n",
    "    char_ls = list(string)\n",
    "    L = len(string)\n",
    "    new_str = []\n",
    "    for i in range(L):\n",
    "        k = L - i - 1\n",
    "        new_str.insert(i, char_ls[k])\n",
    "\n",
    "    return ''.join(new_str)\n",
    "reverse_str('abbcc')"
   ]
  },
  {
   "cell_type": "code",
   "execution_count": 4,
   "metadata": {},
   "outputs": [
    {
     "data": {
      "text/plain": [
       "'ccbba'"
      ]
     },
     "execution_count": 4,
     "metadata": {},
     "output_type": "execute_result"
    }
   ],
   "source": [
    "def reverse_str(string):\n",
    "    char_ls = list(string)\n",
    "    L = len(string)\n",
    "    for i in range(L / 2):\n",
    "        k = L - i -1\n",
    "        char_ls[i], char_ls[k] = char_ls[k], char_ls[i]\n",
    "    return ''.join(char_ls)\n",
    "reverse_str('abbcc')"
   ]
  },
  {
   "cell_type": "code",
   "execution_count": 5,
   "metadata": {},
   "outputs": [
    {
     "data": {
      "text/plain": [
       "'abcdefgh'"
      ]
     },
     "execution_count": 5,
     "metadata": {},
     "output_type": "execute_result"
    }
   ],
   "source": [
    "test_string = 'abcdefgh'\n",
    "test_string[::] # [start: stop: (direction) space] [0:L:+1]"
   ]
  },
  {
   "cell_type": "code",
   "execution_count": 10,
   "metadata": {},
   "outputs": [
    {
     "name": "stdout",
     "output_type": "stream",
     "text": [
      "('abcba', True)\n",
      "('racecar', True)\n"
     ]
    }
   ],
   "source": [
    "def is_palindrome(string):\n",
    "    return string == string[::-1]\n",
    "test_cases = [\n",
    "    'racecar',\n",
    "    'abcba',\n",
    "]\n",
    "test_cases = set(test_cases)\n",
    "for t in test_cases:\n",
    "    print(t, is_palindrome(t))"
   ]
  },
  {
   "cell_type": "code",
   "execution_count": 11,
   "metadata": {},
   "outputs": [
    {
     "data": {
      "text/plain": [
       "'abcbaracecar'"
      ]
     },
     "execution_count": 11,
     "metadata": {},
     "output_type": "execute_result"
    }
   ],
   "source": [
    "long_string = ''.join(test_cases)\n",
    "long_string"
   ]
  },
  {
   "cell_type": "code",
   "execution_count": 12,
   "metadata": {},
   "outputs": [
    {
     "data": {
      "text/plain": [
       "'racecar'"
      ]
     },
     "execution_count": 12,
     "metadata": {},
     "output_type": "execute_result"
    }
   ],
   "source": [
    "def longest_palindrome(string):\n",
    "    if is_palindrome(string):\n",
    "        return string\n",
    "    \n",
    "    longest = ''\n",
    "    for idx in range(1, len(string)):\n",
    "\n",
    "        lhs, rhs = string[:idx], string[idx:]\n",
    "        \n",
    "        if is_palindrome(lhs):\n",
    "            left = lhs\n",
    "        else:\n",
    "            left = longest_palindrome(lhs)\n",
    "\n",
    "        if is_palindrome(rhs):\n",
    "            right = rhs\n",
    "        else:\n",
    "            right = longest_palindrome(rhs)\n",
    "      \n",
    "        if len(left) > len(longest):\n",
    "            longest = left\n",
    "        if len(right) > len(longest):\n",
    "            longest = right\n",
    "        \n",
    "    return longest\n",
    "    \n",
    "longest_palindrome(long_string)"
   ]
  },
  {
   "cell_type": "code",
   "execution_count": 72,
   "metadata": {},
   "outputs": [],
   "source": [
    "#1:24"
   ]
  },
  {
   "cell_type": "code",
   "execution_count": null,
   "metadata": {},
   "outputs": [],
   "source": [
    "public static void main(String args[]){\n",
    "\n",
    "       int [] a = new int[]{4,22,0,0,0,3,6,0,3};\n",
    "\n",
    "       String out = Arrays.toString(segregateZeros(a));\n",
    "       System.out.println(out);\n",
    "   }\n",
    "\n",
    "   static int[] segregateZeros(int[] a){\n",
    "\n",
    "       int firstZeroIndex=0;\n",
    "       boolean foundFirstZero = false;\n",
    "       int numNonZeros = 0;\n",
    "\n",
    "       for(int i=0; i<a.length; i++){\n",
    "           if(a[i]==0){\n",
    "               if(!foundFirstZero){\n",
    "                   firstZeroIndex = i;\n",
    "                   foundFirstZero = true;\n",
    "               }\n",
    "\n",
    "\n",
    "               while(i<a.length && a[i] == 0){\n",
    "                   i++;\n",
    "               }\n",
    "               if(i<a.length){\n",
    "                   //we've found a non-zero. swap with the first zero\n",
    "                   a[firstZeroIndex] = a[i];\n",
    "                   a[i]=0;\n",
    "                   firstZeroIndex++;\n",
    "               }\n",
    "           }else {\n",
    "               numNonZeros++;\n",
    "               if(foundFirstZero && firstZeroIndex<i){\n",
    "                   //we want to swap this back\n",
    "                   a[firstZeroIndex] = a[i];\n",
    "                   a[i]=0;\n",
    "                   firstZeroIndex++;\n",
    "               }\n",
    "           }\n",
    "       }\n",
    "       return a;\n",
    "   }"
   ]
  }
 ],
 "metadata": {
  "kernelspec": {
   "display_name": "Python 2",
   "language": "python",
   "name": "python2"
  },
  "language_info": {
   "codemirror_mode": {
    "name": "ipython",
    "version": 2
   },
   "file_extension": ".py",
   "mimetype": "text/x-python",
   "name": "python",
   "nbconvert_exporter": "python",
   "pygments_lexer": "ipython2",
   "version": "2.7.10"
  }
 },
 "nbformat": 4,
 "nbformat_minor": 2
}
