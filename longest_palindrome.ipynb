{
 "cells": [
  {
   "cell_type": "code",
   "execution_count": 12,
   "metadata": {},
   "outputs": [],
   "source": [
    "# palindrome\n",
    "import datetime\n",
    "import time\n",
    "from functools import wraps\n",
    "import numpy as np\n",
    "#datetime.datetime.now()"
   ]
  },
  {
   "cell_type": "code",
   "execution_count": 2,
   "metadata": {},
   "outputs": [],
   "source": [
    "def time_this(func):\n",
    "    @wraps(func)\n",
    "    def timed_func(*args, **kwargs):\n",
    "        s_t = time.time()\n",
    "        result = func(*args, **kwargs)\n",
    "        e_t = time.time()\n",
    "        print(s_t, e_t, e_t - s_t)\n",
    "        return result\n",
    "    return timed_func"
   ]
  },
  {
   "cell_type": "code",
   "execution_count": 3,
   "metadata": {},
   "outputs": [
    {
     "data": {
      "text/plain": [
       "'ccbba'"
      ]
     },
     "execution_count": 3,
     "metadata": {},
     "output_type": "execute_result"
    }
   ],
   "source": [
    "def reverse_str(string):\n",
    "    char_ls = list(string)\n",
    "    L = len(string)\n",
    "    for i in range(L / 2):\n",
    "        k = L - i -1\n",
    "        char_ls[i], char_ls[k] = char_ls[k], char_ls[i]\n",
    "    return ''.join(char_ls)\n",
    "reverse_str('abbcc')"
   ]
  },
  {
   "cell_type": "code",
   "execution_count": 23,
   "metadata": {},
   "outputs": [
    {
     "name": "stdout",
     "output_type": "stream",
     "text": [
      "('abcba', True)\n",
      "('racecar', True)\n",
      "('bb', True)\n"
     ]
    }
   ],
   "source": [
    "def is_palindrome(string):\n",
    "    return string == string[::-1]\n",
    "test_cases = [\n",
    "    'racecar',\n",
    "    'abcba',\n",
    "    'bb'\n",
    "]\n",
    "test_cases = set(test_cases)\n",
    "for t in test_cases:\n",
    "    print(t, is_palindrome(t))"
   ]
  },
  {
   "cell_type": "code",
   "execution_count": 24,
   "metadata": {},
   "outputs": [
    {
     "data": {
      "text/plain": [
       "'abcbaracecarbb'"
      ]
     },
     "execution_count": 24,
     "metadata": {},
     "output_type": "execute_result"
    }
   ],
   "source": [
    "long_string = ''.join(test_cases)\n",
    "long_string"
   ]
  },
  {
   "cell_type": "code",
   "execution_count": 25,
   "metadata": {},
   "outputs": [
    {
     "data": {
      "text/plain": [
       "(0.7287655520439148, 'racecar')"
      ]
     },
     "execution_count": 25,
     "metadata": {},
     "output_type": "execute_result"
    }
   ],
   "source": [
    "def longest_palindrome(string):\n",
    "    if is_palindrome(string):\n",
    "        return string\n",
    "    \n",
    "    longest = ''\n",
    "    for idx in range(1, len(string)):\n",
    "\n",
    "        lhs, rhs = string[:idx], string[idx:]\n",
    "        \n",
    "        if is_palindrome(lhs):\n",
    "            left = lhs\n",
    "        else:\n",
    "            left = longest_palindrome(lhs)\n",
    "\n",
    "        if is_palindrome(rhs):\n",
    "            right = rhs\n",
    "        else:\n",
    "            right = longest_palindrome(rhs)\n",
    "      \n",
    "        if len(left) > len(longest):\n",
    "            longest = left\n",
    "        if len(right) > len(longest):\n",
    "            longest = right\n",
    "        \n",
    "    return longest\n",
    "\n",
    "data = []\n",
    "for _ in range(100):\n",
    "    s_t = time.time()\n",
    "    res = longest_palindrome(long_string)\n",
    "    e_t = time.time()\n",
    "    delta_t = e_t - s_t\n",
    "    data.append(delta_t)\n",
    "np.mean(data), res"
   ]
  },
  {
   "cell_type": "code",
   "execution_count": 26,
   "metadata": {},
   "outputs": [
    {
     "data": {
      "text/plain": [
       "(0.6942807984352112, 'racecar')"
      ]
     },
     "execution_count": 26,
     "metadata": {},
     "output_type": "execute_result"
    }
   ],
   "source": [
    "def longest_palindrome(string):\n",
    "    if is_palindrome(string):\n",
    "        return string\n",
    "    \n",
    "    longest = ''\n",
    "    for idx in range(1, len(string)):\n",
    "\n",
    "        lhs, rhs = string[:idx], string[idx:]\n",
    "        \n",
    "        left = longest_palindrome(lhs)\n",
    "        right = longest_palindrome(rhs)\n",
    "      \n",
    "        if len(left) > len(longest):\n",
    "            longest = left\n",
    "        if len(right) > len(longest):\n",
    "            longest = right\n",
    "        \n",
    "    return longest\n",
    "\n",
    "data = []\n",
    "for _ in range(100):\n",
    "    s_t = time.time()\n",
    "    res = longest_palindrome(long_string)\n",
    "    e_t = time.time()\n",
    "    delta_t = e_t - s_t\n",
    "    data.append(delta_t)\n",
    "np.mean(data), res"
   ]
  },
  {
   "cell_type": "code",
   "execution_count": 27,
   "metadata": {},
   "outputs": [
    {
     "data": {
      "text/plain": [
       "(0.34507343530654905, 'racecar')"
      ]
     },
     "execution_count": 27,
     "metadata": {},
     "output_type": "execute_result"
    }
   ],
   "source": [
    "#glob_left, glob_right = 0, 0\n",
    "def longest_palindrome(string):\n",
    "    if is_palindrome(string):\n",
    "        return string\n",
    "    longest = ''\n",
    "    for idx in range(1, len(string)):\n",
    "        left, right = '', ''\n",
    "        lhs, rhs = string[:idx], string[idx:]\n",
    "        if len(lhs) > len(longest):\n",
    "            left = longest_palindrome(lhs)\n",
    "        if len(rhs) > len(longest):\n",
    "            right = longest_palindrome(rhs)\n",
    "      \n",
    "        if len(left) > len(longest):\n",
    "            longest = left\n",
    "        if len(right) > len(longest):\n",
    "            longest = right\n",
    "        \n",
    "    return longest\n",
    "data = []\n",
    "for _ in range(100):\n",
    "    s_t = time.time()\n",
    "    res = longest_palindrome(long_string)\n",
    "    e_t = time.time()\n",
    "    delta_t = e_t - s_t\n",
    "    data.append(delta_t)\n",
    "np.mean(data), res"
   ]
  },
  {
   "cell_type": "code",
   "execution_count": null,
   "metadata": {},
   "outputs": [],
   "source": []
  },
  {
   "cell_type": "code",
   "execution_count": null,
   "metadata": {},
   "outputs": [],
   "source": [
    "def longest_palindrome(string):\n",
    "    longest = ''\n",
    "    L_idx = 0\n",
    "    R_idx = len(string)\n",
    "    \n",
    "    for idx in range(L_idx, R_idx)\n",
    "        lhs, rhs = string[L_idx:idx], string[idx:R_idx]\n",
    "        \n",
    "      \n",
    "        if len(left) > len(longest):\n",
    "            longest = left\n",
    "        if len(right) > len(longest):\n",
    "            longest = right\n",
    "        \n",
    "    return longest\n",
    "\n",
    "data = []\n",
    "for _ in range(1):\n",
    "    s_t = time.time()\n",
    "    res = longest_palindrome(long_string)\n",
    "    e_t = time.time()\n",
    "    delta_t = e_t - s_t\n",
    "    data.append(delta_t)\n",
    "np.mean(data), res"
   ]
  },
  {
   "cell_type": "code",
   "execution_count": null,
   "metadata": {},
   "outputs": [],
   "source": []
  },
  {
   "cell_type": "code",
   "execution_count": null,
   "metadata": {},
   "outputs": [],
   "source": []
  },
  {
   "cell_type": "code",
   "execution_count": null,
   "metadata": {},
   "outputs": [],
   "source": []
  },
  {
   "cell_type": "code",
   "execution_count": null,
   "metadata": {},
   "outputs": [],
   "source": []
  },
  {
   "cell_type": "code",
   "execution_count": null,
   "metadata": {},
   "outputs": [],
   "source": []
  },
  {
   "cell_type": "code",
   "execution_count": null,
   "metadata": {},
   "outputs": [],
   "source": []
  },
  {
   "cell_type": "code",
   "execution_count": 14,
   "metadata": {},
   "outputs": [
    {
     "ename": "SyntaxError",
     "evalue": "invalid syntax (<ipython-input-14-bd08c11bc163>, line 1)",
     "output_type": "error",
     "traceback": [
      "\u001b[0;36m  File \u001b[0;32m\"<ipython-input-14-bd08c11bc163>\"\u001b[0;36m, line \u001b[0;32m1\u001b[0m\n\u001b[0;31m    public static void main(String args[]){\u001b[0m\n\u001b[0m                ^\u001b[0m\n\u001b[0;31mSyntaxError\u001b[0m\u001b[0;31m:\u001b[0m invalid syntax\n"
     ]
    }
   ],
   "source": [
    "public static void main(String args[]){\n",
    "\n",
    "       int [] a = new int[]{4,22,0,0,0,3,6,0,3};\n",
    "\n",
    "       String out = Arrays.toString(segregateZeros(a));\n",
    "       System.out.println(out);\n",
    "   }\n",
    "\n",
    "   static int[] segregateZeros(int[] a){\n",
    "\n",
    "       int firstZeroIndex=0;\n",
    "       boolean foundFirstZero = false;\n",
    "       int numNonZeros = 0;\n",
    "\n",
    "       for(int i=0; i<a.length; i++){\n",
    "           if(a[i]==0){\n",
    "               if(!foundFirstZero){\n",
    "                   firstZeroIndex = i;\n",
    "                   foundFirstZero = true;\n",
    "               }\n",
    "\n",
    "\n",
    "               while(i<a.length && a[i] == 0){\n",
    "                   i++;\n",
    "               }\n",
    "               if(i<a.length){\n",
    "                   //we've found a non-zero. swap with the first zero\n",
    "                   a[firstZeroIndex] = a[i];\n",
    "                   a[i]=0;\n",
    "                   firstZeroIndex++;\n",
    "               }\n",
    "           }else {\n",
    "               numNonZeros++;\n",
    "               if(foundFirstZero && firstZeroIndex<i){\n",
    "                   //we want to swap this back\n",
    "                   a[firstZeroIndex] = a[i];\n",
    "                   a[i]=0;\n",
    "                   firstZeroIndex++;\n",
    "               }\n",
    "           }\n",
    "       }\n",
    "       return a;\n",
    "   }"
   ]
  }
 ],
 "metadata": {
  "kernelspec": {
   "display_name": "Python 2",
   "language": "python",
   "name": "python2"
  },
  "language_info": {
   "codemirror_mode": {
    "name": "ipython",
    "version": 2
   },
   "file_extension": ".py",
   "mimetype": "text/x-python",
   "name": "python",
   "nbconvert_exporter": "python",
   "pygments_lexer": "ipython2",
   "version": "2.7.10"
  }
 },
 "nbformat": 4,
 "nbformat_minor": 2
}
