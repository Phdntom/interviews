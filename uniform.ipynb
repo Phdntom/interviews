{
 "cells": [
  {
   "cell_type": "code",
   "execution_count": null,
   "metadata": {
    "collapsed": true
   },
   "outputs": [],
   "source": []
  },
  {
   "cell_type": "code",
   "execution_count": null,
   "metadata": {
    "collapsed": true
   },
   "outputs": [],
   "source": [
    "\"\"\"\n",
    "Goal:\n",
    "You are going to write a program to process and sample data in an online (streaming) fashion.\n",
    "\n",
    "Context:\n",
    "You are processing a stream of data from an application in real time.\n",
    "Items from the stream must be dealt with one at a time, without knowledge of the next item arriving.\n",
    "Due to storage constraints, your solution to this question can only store a single item, and you decide the\n",
    "process that maintains this stored item. You may keep some additional numerical data about items if you wish.\n",
    "\n",
    "Question:\n",
    "The stream turns on and you receive items one at a time.\n",
    "After some time of processing items, the stream stops sending items.\n",
    "When this happens, you return the item you currently have stored.\n",
    "\n",
    "Store the items in such a way such that the probability of returning any item you \n",
    "have received is uniform over all items (treat each item received as unique).\n",
    "\"\"\""
   ]
  },
  {
   "cell_type": "code",
   "execution_count": null,
   "metadata": {
    "collapsed": true
   },
   "outputs": [],
   "source": [
    "\"\"\"\n",
    "Goal:\n",
    "You are going to write a program to process and sample data in an online (streaming) fashion.\n",
    "\n",
    "Context:\n",
    "You are processing a stream of data from an application in real time. Items from the stream must be dealt with one at a time, without knowledge of the next item arriving. Due to storage constraints, your solution to this question can only store a single item, and you decide the process that maintains this stored item. You may keep some additional numerical data about items if you wish.\n",
    "\n",
    "Question:\n",
    "The stream turns on and you receive items one at a time. After some time of processing items, the stream stops sending items. When this happens, you the return the item you currently have stored. Is it possible to store items in a way such that the probability of returning any item you have received is uniform over all items (treat each item received as unique). Why or why not? If you can, how would you do it?\n",
    "\"\"\""
   ]
  },
  {
   "cell_type": "code",
   "execution_count": 1,
   "metadata": {
    "collapsed": true
   },
   "outputs": [],
   "source": [
    "stream = ['a', 'b', 'c', 'd', 'e', None]"
   ]
  },
  {
   "cell_type": "code",
   "execution_count": 8,
   "metadata": {
    "collapsed": true
   },
   "outputs": [],
   "source": [
    "\n",
    "import random\n",
    "def test_func():\n",
    "    count = 1\n",
    "    stored_item = None\n",
    "    for item in stream:\n",
    "        if item == None: break\n",
    "        r = random.random() #rand num between 0 and 1 exclusive\n",
    "        n = float(1)/float(count)\n",
    "        count +=1\n",
    "        if r <= n:\n",
    "            stored_item = item\n",
    "    return stored_item\n"
   ]
  },
  {
   "cell_type": "code",
   "execution_count": 7,
   "metadata": {
    "collapsed": false
   },
   "outputs": [
    {
     "data": {
      "text/plain": [
       "0.08138086731248817"
      ]
     },
     "execution_count": 7,
     "metadata": {},
     "output_type": "execute_result"
    }
   ],
   "source": [
    "random.random()"
   ]
  },
  {
   "cell_type": "code",
   "execution_count": 21,
   "metadata": {
    "collapsed": false
   },
   "outputs": [
    {
     "data": {
      "text/plain": [
       "0.19885"
      ]
     },
     "execution_count": 21,
     "metadata": {},
     "output_type": "execute_result"
    }
   ],
   "source": [
    "from collections import defaultdict\n",
    "results = defaultdict(int)\n",
    "for i in range(100000):\n",
    "    result = test_func()\n",
    "    results[result] += 1\n",
    "results = dict(results)\n",
    "\n",
    "from __future__ import division\n",
    "results['a'] / sum(results.values())"
   ]
  },
  {
   "cell_type": "code",
   "execution_count": null,
   "metadata": {
    "collapsed": true
   },
   "outputs": [],
   "source": []
  },
  {
   "cell_type": "code",
   "execution_count": null,
   "metadata": {
    "collapsed": true
   },
   "outputs": [],
   "source": []
  },
  {
   "cell_type": "code",
   "execution_count": null,
   "metadata": {
    "collapsed": true
   },
   "outputs": [],
   "source": []
  },
  {
   "cell_type": "code",
   "execution_count": null,
   "metadata": {
    "collapsed": true
   },
   "outputs": [],
   "source": []
  },
  {
   "cell_type": "code",
   "execution_count": null,
   "metadata": {
    "collapsed": true
   },
   "outputs": [],
   "source": []
  },
  {
   "cell_type": "code",
   "execution_count": null,
   "metadata": {
    "collapsed": true
   },
   "outputs": [],
   "source": []
  }
 ],
 "metadata": {
  "kernelspec": {
   "display_name": "Python 2",
   "language": "python",
   "name": "python2"
  },
  "language_info": {
   "codemirror_mode": {
    "name": "ipython",
    "version": 2
   },
   "file_extension": ".py",
   "mimetype": "text/x-python",
   "name": "python",
   "nbconvert_exporter": "python",
   "pygments_lexer": "ipython2",
   "version": "2.7.10"
  }
 },
 "nbformat": 4,
 "nbformat_minor": 1
}
