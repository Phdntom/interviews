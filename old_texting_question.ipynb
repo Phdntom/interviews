{
 "cells": [
  {
   "cell_type": "code",
   "execution_count": 1,
   "metadata": {
    "collapsed": true
   },
   "outputs": [],
   "source": [
    "num2letter = {\n",
    "                \"2\":\"abc\",\n",
    "                \"3\":\"def\",\n",
    "                \"4\":\"ghi\",\n",
    "                \"5\":\"jkl\",\n",
    "                \"6\":\"mno\",\n",
    "                \"7\":\"pqrs\",\n",
    "                \"8\":\"tuv\",\n",
    "                \"9\":\"wxyz\"\n",
    "}"
   ]
  },
  {
   "cell_type": "code",
   "execution_count": 15,
   "metadata": {
    "collapsed": false
   },
   "outputs": [
    {
     "name": "stdout",
     "output_type": "stream",
     "text": [
      "48 ['ptw', 'qtw', 'rtw', 'stw', 'puw', 'quw', 'ruw', 'suw', 'pvw', 'qvw', 'rvw', 'svw', 'ptx', 'qtx', 'rtx', 'stx', 'pux', 'qux', 'rux', 'sux', 'pvx', 'qvx', 'rvx', 'svx', 'pty', 'qty', 'rty', 'sty', 'puy', 'quy', 'ruy', 'suy', 'pvy', 'qvy', 'rvy', 'svy', 'ptz', 'qtz', 'rtz', 'stz', 'puz', 'quz', 'ruz', 'suz', 'pvz', 'qvz', 'rvz', 'svz']\n"
     ]
    }
   ],
   "source": [
    "\n",
    "inputnums = '789'\n",
    "\n",
    "def get_words(num_ls):\n",
    "    # single number base case\n",
    "    if len(num_ls) == 1:\n",
    "        return list(num2letter[num_ls[0]])\n",
    "    \n",
    "    letters = num2letter[num_ls[0]]\n",
    "    sub_words = []\n",
    "    for sub_word in get_words(num_ls[1:]):\n",
    "        sub_words.extend([letter + sub_word for letter in letters])\n",
    "  \n",
    "    return sub_words\n",
    "  \n",
    "ls = get_words(inputnums)\n",
    "print len(ls), ls"
   ]
  },
  {
   "cell_type": "code",
   "execution_count": null,
   "metadata": {
    "collapsed": true
   },
   "outputs": [],
   "source": []
  },
  {
   "cell_type": "code",
   "execution_count": null,
   "metadata": {
    "collapsed": true
   },
   "outputs": [],
   "source": []
  },
  {
   "cell_type": "code",
   "execution_count": null,
   "metadata": {
    "collapsed": true
   },
   "outputs": [],
   "source": []
  },
  {
   "cell_type": "code",
   "execution_count": null,
   "metadata": {
    "collapsed": true
   },
   "outputs": [],
   "source": []
  },
  {
   "cell_type": "code",
   "execution_count": null,
   "metadata": {
    "collapsed": true
   },
   "outputs": [],
   "source": []
  },
  {
   "cell_type": "code",
   "execution_count": null,
   "metadata": {
    "collapsed": true
   },
   "outputs": [],
   "source": []
  }
 ],
 "metadata": {
  "kernelspec": {
   "display_name": "Python 2",
   "language": "python",
   "name": "python2"
  },
  "language_info": {
   "codemirror_mode": {
    "name": "ipython",
    "version": 2
   },
   "file_extension": ".py",
   "mimetype": "text/x-python",
   "name": "python",
   "nbconvert_exporter": "python",
   "pygments_lexer": "ipython2",
   "version": "2.7.12"
  }
 },
 "nbformat": 4,
 "nbformat_minor": 2
}
