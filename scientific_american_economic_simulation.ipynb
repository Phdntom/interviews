{
 "cells": [
  {
   "cell_type": "code",
   "execution_count": 1,
   "metadata": {},
   "outputs": [],
   "source": [
    "import numpy as np"
   ]
  },
  {
   "cell_type": "code",
   "execution_count": 2,
   "metadata": {},
   "outputs": [],
   "source": [
    "# initialize all equal\n",
    "def initialize(N_SIZE):\n",
    "    return np.ones(N_SIZE), np.ones(N_SIZE)\n",
    "N_SIZE = 10\n",
    "grp1, grp2 = initialize(N_SIZE)"
   ]
  },
  {
   "cell_type": "code",
   "execution_count": 10,
   "metadata": {},
   "outputs": [
    {
     "data": {
      "text/plain": [
       "(array([1.2, 1.2, 1.2, 1.2, 1.2, 1.2, 1.2, 1.2, 1.2, 1.2]),\n",
       " array([0.85, 0.85, 0.85, 0.85, 0.85, 0.85, 0.85, 0.85, 0.85, 0.85]))"
      ]
     },
     "execution_count": 10,
     "metadata": {},
     "output_type": "execute_result"
    }
   ],
   "source": [
    "alpha, beta = 0.2, 0.15\n",
    "def make_exchanges(grp1, grp2):\n",
    "    #R = np.random.random(N_SIZE)\n",
    "    grp1 *= (1 + alpha)\n",
    "    grp2 *= (1 - beta)\n",
    "    \n",
    "    return grp1, grp2\n",
    "grp1, grp2 = make_exchanges(grp1, grp2)\n",
    "grp1, grp2\n"
   ]
  },
  {
   "cell_type": "code",
   "execution_count": 14,
   "metadata": {},
   "outputs": [
    {
     "data": {
      "text/plain": [
       "array([0.85, 0.85, 0.85, 0.85, 0.85, 0.85, 0.85, 0.85, 0.85, 0.85])"
      ]
     },
     "execution_count": 14,
     "metadata": {},
     "output_type": "execute_result"
    }
   ],
   "source": [
    "np.min(np.vstack((grp1, grp2)), axis=0)"
   ]
  },
  {
   "cell_type": "code",
   "execution_count": null,
   "metadata": {},
   "outputs": [],
   "source": []
  },
  {
   "cell_type": "code",
   "execution_count": null,
   "metadata": {},
   "outputs": [],
   "source": []
  },
  {
   "cell_type": "code",
   "execution_count": null,
   "metadata": {},
   "outputs": [],
   "source": []
  },
  {
   "cell_type": "code",
   "execution_count": null,
   "metadata": {},
   "outputs": [],
   "source": []
  },
  {
   "cell_type": "code",
   "execution_count": null,
   "metadata": {},
   "outputs": [],
   "source": []
  },
  {
   "cell_type": "code",
   "execution_count": null,
   "metadata": {},
   "outputs": [],
   "source": []
  },
  {
   "cell_type": "code",
   "execution_count": 4,
   "metadata": {},
   "outputs": [
    {
     "data": {
      "text/plain": [
       "(array([0.85, 0.85, 1.2 , 1.2 , 1.  , 1.2 , 1.2 , 0.85, 1.2 , 0.85]),\n",
       " array([1.  , 1.  , 1.  , 1.  , 1.2 , 1.  , 0.85, 0.85, 1.  , 1.  ]))"
      ]
     },
     "execution_count": 4,
     "metadata": {},
     "output_type": "execute_result"
    }
   ],
   "source": [
    "def shuffle_pairs(grp1, grp2):\n",
    "    combined = np.hstack((grp1, grp2))\n",
    "    np.random.shuffle(combined)\n",
    "    assert(len(combined) == len(grp1) + len(grp2))\n",
    "    return combined[:N_SIZE], combined[N_SIZE:]\n",
    "grp1, grp2 = shuffle_pairs(grp1, grp2)\n",
    "grp1, grp2"
   ]
  },
  {
   "cell_type": "code",
   "execution_count": 5,
   "metadata": {},
   "outputs": [
    {
     "data": {
      "text/plain": [
       "(1.0150000000000001, 0.136106575888162, 0.85, 1.2)"
      ]
     },
     "execution_count": 5,
     "metadata": {},
     "output_type": "execute_result"
    }
   ],
   "source": [
    "def pop_stats(grp1, grp2):\n",
    "    combined = np.hstack((grp1, grp2))\n",
    "    return np.mean(combined), np.std(combined), np.min(combined), np.max(combined)\n",
    "pop_stats(grp1, grp2)"
   ]
  },
  {
   "cell_type": "code",
   "execution_count": 6,
   "metadata": {},
   "outputs": [
    {
     "data": {
      "text/plain": [
       "[0.85,\n",
       " 0.85,\n",
       " 0.85,\n",
       " 0.85,\n",
       " 0.85,\n",
       " 0.85,\n",
       " 1.0,\n",
       " 1.0,\n",
       " 1.0,\n",
       " 1.0,\n",
       " 1.0,\n",
       " 1.0,\n",
       " 1.0,\n",
       " 1.0,\n",
       " 1.2,\n",
       " 1.2,\n",
       " 1.2,\n",
       " 1.2,\n",
       " 1.2,\n",
       " 1.2]"
      ]
     },
     "execution_count": 6,
     "metadata": {},
     "output_type": "execute_result"
    }
   ],
   "source": [
    "def ranked(grp1, grp2):\n",
    "    combined = np.hstack((grp1, grp2))\n",
    "    return sorted(combined)\n",
    "ranked(grp1, grp2)"
   ]
  },
  {
   "cell_type": "code",
   "execution_count": 14,
   "metadata": {},
   "outputs": [],
   "source": [
    "alpha, beta = 0.015, 0.01\n",
    "N_STEPS = 4000"
   ]
  },
  {
   "cell_type": "code",
   "execution_count": 15,
   "metadata": {},
   "outputs": [],
   "source": [
    "# initialize all equal\n",
    "N_SIZE = 20\n",
    "grp1 = np.ones(N_SIZE)\n",
    "grp2 = np.ones(N_SIZE)\n",
    "mus, sigs = [], []\n",
    "mins, maxs = [], []\n",
    "for t in range(N_STEPS):\n",
    "    grp1, grp2 = make_exchanges(grp1, grp2)\n",
    "    grp1, grp2 = shuffle_pairs(grp1, grp2)\n",
    "    mu, sig, _min, _max = pop_stats(grp1, grp2)\n",
    "    mus.append(mu)\n",
    "    sigs.append(sig)\n",
    "    mins.append(_min)\n",
    "    maxs.append(_max)"
   ]
  },
  {
   "cell_type": "code",
   "execution_count": 16,
   "metadata": {},
   "outputs": [
    {
     "data": {
      "text/plain": [
       "<matplotlib.legend.Legend at 0x112ffb8d0>"
      ]
     },
     "execution_count": 16,
     "metadata": {},
     "output_type": "execute_result"
    },
    {
     "data": {
      "image/png": "[encoded data removed]",
      "text/plain": [
       "<matplotlib.figure.Figure at 0x11308f1d0>"
      ]
     },
     "metadata": {},
     "output_type": "display_data"
    }
   ],
   "source": [
    "%matplotlib inline\n",
    "import matplotlib.pyplot as plt\n",
    "\n",
    "fig, ax = plt.subplots(figsize=(12, 5))\n",
    "\n",
    "ax.plot(mus, label='mean')\n",
    "ax.plot(sigs, label='std')\n",
    "ax.plot(mins, label='min')\n",
    "ax.plot(maxs, label='max')\n",
    "ax.legend()"
   ]
  },
  {
   "cell_type": "code",
   "execution_count": 10,
   "metadata": {},
   "outputs": [
    {
     "data": {
      "text/plain": [
       "(array([2., 1., 2., 0., 5., 2., 3., 5., 1., 5., 1., 5., 2., 2., 1., 1., 1.,\n",
       "        0., 0., 1.]),\n",
       " array([1.63362938, 1.85283451, 2.07203964, 2.29124477, 2.5104499 ,\n",
       "        2.72965502, 2.94886015, 3.16806528, 3.38727041, 3.60647554,\n",
       "        3.82568067, 4.0448858 , 4.26409093, 4.48329606, 4.70250119,\n",
       "        4.92170632, 5.14091145, 5.36011658, 5.57932171, 5.79852683,\n",
       "        6.01773196]),\n",
       " <a list of 20 Patch objects>)"
      ]
     },
     "execution_count": 10,
     "metadata": {},
     "output_type": "execute_result"
    },
    {
     "data": {
      "image/png": "[encoded data removed]",
      "text/plain": [
       "<matplotlib.figure.Figure at 0x111e87e90>"
      ]
     },
     "metadata": {},
     "output_type": "display_data"
    }
   ],
   "source": [
    "fig, ax = plt.subplots(figsize=(12, 5))\n",
    "ax.hist(ranked(grp1, grp2), bins=20, label='ranked')"
   ]
  },
  {
   "cell_type": "code",
   "execution_count": 30,
   "metadata": {},
   "outputs": [
    {
     "data": {
      "text/plain": [
       "array([2.48789848e+11, 1.00603213e+11, 1.84475228e+10, 4.17495928e+10,\n",
       "       1.26263122e+10, 1.45630973e+10, 3.62589755e+10, 2.39799037e+10,\n",
       "       3.47990983e+10, 1.35802829e+11, 2.36835672e+10, 3.20724245e+10,\n",
       "       4.59029880e+10, 6.06402687e+10, 9.29802641e+09, 7.94287483e+09,\n",
       "       4.12657811e+11, 1.57507864e+10, 7.58179741e+11, 2.51910937e+10,\n",
       "       7.77695557e+10, 3.51610823e+10, 4.14259788e+11, 9.65638304e+09,\n",
       "       8.24627736e+10, 5.73834690e+09, 2.34168478e+10, 2.72920417e+10,\n",
       "       1.22075592e+10, 7.20460216e+10, 3.05268527e+11, 9.36477425e+09,\n",
       "       4.25937358e+10, 6.94493090e+10, 1.41765029e+11, 5.05900584e+10,\n",
       "       2.97095488e+10, 1.42643245e+11, 1.21031155e+11, 2.78162163e+09,\n",
       "       1.87598683e+11, 1.63413323e+11, 1.05607647e+11, 1.27283286e+10,\n",
       "       2.73304700e+10, 5.58619655e+09, 3.85242153e+10, 8.84468024e+10,\n",
       "       6.16873817e+10, 5.64598729e+09, 2.38559545e+11, 3.26943784e+10,\n",
       "       2.48448072e+10, 9.95840651e+10, 3.47679972e+10, 2.55824262e+10,\n",
       "       4.13991886e+10, 6.06041325e+10, 4.95833162e+10, 6.28211916e+09,\n",
       "       1.99615956e+11, 4.44070731e+10, 6.65340187e+10, 1.90803238e+10,\n",
       "       5.18596635e+10, 6.47387730e+09, 3.45911626e+11, 1.82334504e+10,\n",
       "       4.29727139e+10, 7.07328090e+10, 1.43154327e+11, 1.11647575e+11,\n",
       "       1.66866542e+11, 3.23508371e+10, 1.81229923e+11, 7.50845980e+10,\n",
       "       2.99203363e+10, 5.40352584e+10, 1.25344639e+12, 2.36271645e+10,\n",
       "       1.72882264e+10, 2.02234129e+11, 5.01140213e+10, 8.36536823e+09,\n",
       "       1.23345436e+10, 1.75957758e+10, 8.40688978e+10, 4.42749174e+10,\n",
       "       2.38650506e+11, 1.26150276e+10, 5.31716947e+09, 1.65033838e+10,\n",
       "       1.78744450e+10, 2.83692630e+10, 2.84054668e+10, 2.33630234e+10,\n",
       "       3.17233227e+10, 4.72040353e+11, 3.54921281e+10, 1.63968893e+10])"
      ]
     },
     "execution_count": 30,
     "metadata": {},
     "output_type": "execute_result"
    }
   ],
   "source": [
    "grp1"
   ]
  },
  {
   "cell_type": "code",
   "execution_count": null,
   "metadata": {},
   "outputs": [],
   "source": []
  }
 ],
 "metadata": {
  "kernelspec": {
   "display_name": "Python 2",
   "language": "python",
   "name": "python2"
  },
  "language_info": {
   "codemirror_mode": {
    "name": "ipython",
    "version": 2
   },
   "file_extension": ".py",
   "mimetype": "text/x-python",
   "name": "python",
   "nbconvert_exporter": "python",
   "pygments_lexer": "ipython2",
   "version": "2.7.10"
  }
 },
 "nbformat": 4,
 "nbformat_minor": 2
}
