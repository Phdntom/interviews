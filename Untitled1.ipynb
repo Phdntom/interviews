{
 "cells": [
  {
   "cell_type": "code",
   "execution_count": null,
   "metadata": {},
   "outputs": [],
   "source": []
  },
  {
   "cell_type": "code",
   "execution_count": null,
   "metadata": {},
   "outputs": [],
   "source": []
  },
  {
   "cell_type": "code",
   "execution_count": 27,
   "metadata": {},
   "outputs": [],
   "source": [
    "phone_number = '3662277'\n",
    "\n",
    "words = \"\"\"foo bar baz foobar emo cap car cat\"\"\".split(' ')\n",
    "\n",
    "output = \"\"\"bar cap car emo foo foobar\"\"\".split(' ')"
   ]
  },
  {
   "cell_type": "code",
   "execution_count": 32,
   "metadata": {},
   "outputs": [
    {
     "data": {
      "text/plain": [
       "{'366': ['foo', 'emo'],\n",
       " '227': ['bar', 'cap', 'car'],\n",
       " '229': ['baz'],\n",
       " '366227': ['foobar'],\n",
       " '228': ['cat']}"
      ]
     },
     "execution_count": 32,
     "metadata": {},
     "output_type": "execute_result"
    }
   ],
   "source": [
    "num2letter = {\n",
    "    2: 'abc',\n",
    "    3: 'def',\n",
    "    4: 'ghi',\n",
    "    5: 'jkl',\n",
    "    6: 'mno',\n",
    "    7: 'pqrs',\n",
    "    8: 'tuv',\n",
    "    9: 'wxyz'\n",
    "}\n",
    "\n",
    "letter2num = {}\n",
    "for num, chars in num2letter.items():\n",
    "    for char in chars:\n",
    "        letter2num[char] = num\n",
    "        \n",
    "from collections import defaultdict\n",
    "num2words = defaultdict(list)\n",
    "for w in words:\n",
    "    num_str = ''.join([str(letter2num[c]) for c in w])\n",
    "    num2words[num_str].append(w)\n",
    "num2words = dict(num2words)"
   ]
  },
  {
   "cell_type": "code",
   "execution_count": 40,
   "metadata": {},
   "outputs": [
    {
     "data": {
      "text/plain": [
       "['bar', 'cap', 'car', 'emo', 'foo', 'foobar']"
      ]
     },
     "execution_count": 40,
     "metadata": {},
     "output_type": "execute_result"
    }
   ],
   "source": [
    "L = len(phone_number)\n",
    "nums_set = set(nums)\n",
    "contained = set()\n",
    "for lix in range(L):\n",
    "    for rix in range(L, lix, -1): \n",
    "        substr = phone_number[lix:rix]\n",
    "        if substr in num2words:\n",
    "            contained.add(substr)\n",
    "answer = []\n",
    "for substr in contained:\n",
    "    answer.extend(num2words[substr])\n",
    "sorted(answer)"
   ]
  },
  {
   "cell_type": "code",
   "execution_count": 41,
   "metadata": {},
   "outputs": [
    {
     "data": {
      "text/plain": [
       "['bar', 'cap', 'car', 'emo', 'foo', 'foobar']"
      ]
     },
     "execution_count": 41,
     "metadata": {},
     "output_type": "execute_result"
    }
   ],
   "source": [
    "sorted(output)"
   ]
  },
  {
   "cell_type": "code",
   "execution_count": null,
   "metadata": {},
   "outputs": [],
   "source": []
  },
  {
   "cell_type": "code",
   "execution_count": null,
   "metadata": {},
   "outputs": [],
   "source": []
  }
 ],
 "metadata": {
  "kernelspec": {
   "display_name": "Python 3",
   "language": "python",
   "name": "python3"
  },
  "language_info": {
   "codemirror_mode": {
    "name": "ipython",
    "version": 3
   },
   "file_extension": ".py",
   "mimetype": "text/x-python",
   "name": "python",
   "nbconvert_exporter": "python",
   "pygments_lexer": "ipython3",
   "version": "3.7.3"
  }
 },
 "nbformat": 4,
 "nbformat_minor": 4
}
