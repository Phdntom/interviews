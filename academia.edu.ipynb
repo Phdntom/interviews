{
 "metadata": {
  "name": "academia.edu"
 },
 "nbformat": 3,
 "nbformat_minor": 0,
 "worksheets": [
  {
   "cells": [
    {
     "cell_type": "code",
     "collapsed": false,
     "input": [
      "from __future__ import division, print_function"
     ],
     "language": "python",
     "metadata": {},
     "outputs": [],
     "prompt_number": 1
    },
    {
     "cell_type": "code",
     "collapsed": false,
     "input": [
      "str(75)"
     ],
     "language": "python",
     "metadata": {},
     "outputs": [
      {
       "output_type": "pyout",
       "prompt_number": 2,
       "text": [
        "'75'"
       ]
      }
     ],
     "prompt_number": 2
    },
    {
     "cell_type": "code",
     "collapsed": false,
     "input": [
      "def bottles_kegs(num):\n",
      "    '''\n",
      "    '''\n",
      "    kegs = False\n",
      "    bottles = False\n",
      "    \n",
      "    kegs = (num % 5) == 0\n",
      "    bottles = (num % 7) == 0\n",
      "    \n",
      "    string_num = str(num)\n",
      "    if str(7) in string_num:\n",
      "        bottles = True\n",
      "    if str(5) in string_num:\n",
      "        kegs = True\n",
      "    if bottles and kegs:\n",
      "        print(\"Bottles and Kegs\")\n",
      "    elif bottles:\n",
      "        print(\"Bottles\")\n",
      "    elif kegs:\n",
      "        print(\"Kegs\")\n",
      "    else:\n",
      "        print(num)"
     ],
     "language": "python",
     "metadata": {},
     "outputs": [],
     "prompt_number": 5
    },
    {
     "cell_type": "code",
     "collapsed": false,
     "input": [
      "bottles_kegs(4)"
     ],
     "language": "python",
     "metadata": {},
     "outputs": [
      {
       "output_type": "stream",
       "stream": "stdout",
       "text": [
        "4\n"
       ]
      }
     ],
     "prompt_number": 6
    },
    {
     "cell_type": "code",
     "collapsed": false,
     "input": [
      "bottles_kegs(75)"
     ],
     "language": "python",
     "metadata": {},
     "outputs": [
      {
       "output_type": "stream",
       "stream": "stdout",
       "text": [
        "Bottles and Kegs\n"
       ]
      }
     ],
     "prompt_number": 7
    },
    {
     "cell_type": "code",
     "collapsed": false,
     "input": [
      "bottles_kegs(15)"
     ],
     "language": "python",
     "metadata": {},
     "outputs": [
      {
       "output_type": "stream",
       "stream": "stdout",
       "text": [
        "Kegs\n"
       ]
      }
     ],
     "prompt_number": 9
    },
    {
     "cell_type": "code",
     "collapsed": false,
     "input": [
      "bottles_kegs(17)"
     ],
     "language": "python",
     "metadata": {},
     "outputs": [
      {
       "output_type": "stream",
       "stream": "stdout",
       "text": [
        "Bottles\n"
       ]
      }
     ],
     "prompt_number": 10
    },
    {
     "cell_type": "code",
     "collapsed": false,
     "input": [
      "def div5(num):\n",
      "    '''\n",
      "    Returns True when num is divisible by 5\n",
      "    '''\n",
      "    return num % 5 == 0\n",
      "\n",
      "def div7(num):\n",
      "    return num % 7 == 0\n",
      "\n",
      "def has5(num):\n",
      "    return str(5) in str(num)\n",
      "\n",
      "def has7(num):\n",
      "    return str(7) in str(num)\n",
      "    "
     ],
     "language": "python",
     "metadata": {},
     "outputs": [],
     "prompt_number": 14
    },
    {
     "cell_type": "code",
     "collapsed": false,
     "input": [
      "def get_tests():\n",
      "    test_encode = []\n",
      "    test_set = set([])\n",
      "    test_nums = []\n",
      "    for i in range(100000):\n",
      "        count = [0,0,0,0]\n",
      "        if div5(i):\n",
      "            count[0]=1\n",
      "        if div7(i):\n",
      "            count[1]=1\n",
      "        if has5(i):\n",
      "            count[2]=1\n",
      "        if has7(i):\n",
      "            count[3]=1\n",
      "        count = tuple(count)\n",
      "        if count not in test_set:\n",
      "            test_set.add(count)\n",
      "            test_nums.append(i)\n",
      "\n",
      "    return test_nums\n",
      "        "
     ],
     "language": "python",
     "metadata": {},
     "outputs": [],
     "prompt_number": 35
    },
    {
     "cell_type": "code",
     "collapsed": false,
     "input": [
      "get_tests()"
     ],
     "language": "python",
     "metadata": {},
     "outputs": [
      {
       "output_type": "pyout",
       "prompt_number": 37,
       "text": [
        "[0, 1, 5, 7, 10, 14, 17, 35, 51, 56, 57, 70, 75, 170, 175, 357]"
       ]
      }
     ],
     "prompt_number": 37
    },
    {
     "cell_type": "code",
     "collapsed": false,
     "input": [
      "0 % 5"
     ],
     "language": "python",
     "metadata": {},
     "outputs": [
      {
       "output_type": "pyout",
       "prompt_number": 38,
       "text": [
        "0"
       ]
      }
     ],
     "prompt_number": 38
    },
    {
     "cell_type": "code",
     "collapsed": false,
     "input": [],
     "language": "python",
     "metadata": {},
     "outputs": []
    }
   ],
   "metadata": {}
  }
 ]
}