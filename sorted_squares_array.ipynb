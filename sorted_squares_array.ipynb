{
 "cells": [
  {
   "cell_type": "code",
   "execution_count": null,
   "metadata": {},
   "outputs": [],
   "source": []
  },
  {
   "cell_type": "code",
   "execution_count": 1,
   "metadata": {},
   "outputs": [],
   "source": [
    "import numpy as np"
   ]
  },
  {
   "cell_type": "code",
   "execution_count": 13,
   "metadata": {},
   "outputs": [
    {
     "data": {
      "text/plain": [
       "[-83,\n",
       " -82,\n",
       " -80,\n",
       " -68,\n",
       " -67,\n",
       " -66,\n",
       " -53,\n",
       " -42,\n",
       " -5,\n",
       " -4,\n",
       " 7,\n",
       " 11,\n",
       " 26,\n",
       " 32,\n",
       " 35,\n",
       " 86,\n",
       " 89,\n",
       " 91,\n",
       " 93,\n",
       " 93,\n",
       " 94]"
      ]
     },
     "execution_count": 13,
     "metadata": {},
     "output_type": "execute_result"
    }
   ],
   "source": [
    "ls1 = sorted(np.random.randint(-100, 100, 21))\n",
    "ls1"
   ]
  },
  {
   "cell_type": "code",
   "execution_count": 19,
   "metadata": {},
   "outputs": [],
   "source": [
    "def sorted_squares(ls):\n",
    "    new_ls = []\n",
    "    left_ix = 0\n",
    "    right_ix = len(ls) - 1\n",
    "    while left_ix <= right_ix:\n",
    "        left = ls[left_ix]\n",
    "        right = ls[right_ix]\n",
    "        L2 = left**2\n",
    "        R2 = right**2\n",
    "        if L2 > R2:\n",
    "            new_ls.insert(0, L2)\n",
    "            left_ix += 1\n",
    "        else:\n",
    "            new_ls.insert(0, R2)\n",
    "            right_ix -=1\n",
    "    return new_ls"
   ]
  },
  {
   "cell_type": "code",
   "execution_count": 20,
   "metadata": {},
   "outputs": [
    {
     "data": {
      "text/plain": [
       "[16,\n",
       " 25,\n",
       " 49,\n",
       " 121,\n",
       " 676,\n",
       " 1024,\n",
       " 1225,\n",
       " 1764,\n",
       " 2809,\n",
       " 4356,\n",
       " 4489,\n",
       " 4624,\n",
       " 6400,\n",
       " 6724,\n",
       " 6889,\n",
       " 7396,\n",
       " 7921,\n",
       " 8281,\n",
       " 8649,\n",
       " 8649,\n",
       " 8836]"
      ]
     },
     "execution_count": 20,
     "metadata": {},
     "output_type": "execute_result"
    }
   ],
   "source": [
    "check = sorted([x**2 for x in ls1])\n",
    "check"
   ]
  },
  {
   "cell_type": "code",
   "execution_count": 22,
   "metadata": {},
   "outputs": [
    {
     "data": {
      "text/plain": [
       "True"
      ]
     },
     "execution_count": 22,
     "metadata": {},
     "output_type": "execute_result"
    }
   ],
   "source": [
    "sorted_squares(ls1) == check"
   ]
  },
  {
   "cell_type": "code",
   "execution_count": 30,
   "metadata": {},
   "outputs": [],
   "source": [
    "def sorted_squares2(ls):\n",
    "    new_ls = []\n",
    "    L_ix = 0\n",
    "    R_ix = len(ls) - 1\n",
    "    L_sq = ls[L_ix] ** 2\n",
    "    R_sq = ls[R_ix] ** 2\n",
    "    while L_ix <= R_ix:\n",
    "        if L_sq > R_sq:\n",
    "            new_ls.insert(0, L_sq)\n",
    "            L_ix += 1\n",
    "            L_sq = ls[L_ix] ** 2\n",
    "        else:\n",
    "            new_ls.insert(0, R_sq)\n",
    "            R_ix -=1\n",
    "            R_sq = ls[R_ix] ** 2\n",
    "    return new_ls"
   ]
  },
  {
   "cell_type": "code",
   "execution_count": 32,
   "metadata": {},
   "outputs": [
    {
     "data": {
      "text/plain": [
       "True"
      ]
     },
     "execution_count": 32,
     "metadata": {},
     "output_type": "execute_result"
    }
   ],
   "source": [
    "sorted_squares2(ls1) == check"
   ]
  },
  {
   "cell_type": "code",
   "execution_count": null,
   "metadata": {},
   "outputs": [],
   "source": []
  }
 ],
 "metadata": {
  "kernelspec": {
   "display_name": "Python 3",
   "language": "python",
   "name": "python3"
  },
  "language_info": {
   "codemirror_mode": {
    "name": "ipython",
    "version": 3
   },
   "file_extension": ".py",
   "mimetype": "text/x-python",
   "name": "python",
   "nbconvert_exporter": "python",
   "pygments_lexer": "ipython3",
   "version": "3.7.3"
  }
 },
 "nbformat": 4,
 "nbformat_minor": 4
}
